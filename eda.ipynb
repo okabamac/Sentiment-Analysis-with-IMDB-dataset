{
 "cells": [
  {
   "cell_type": "code",
   "execution_count": null,
   "metadata": {},
   "outputs": [],
   "source": []
  },
  {
   "cell_type": "code",
   "execution_count": 1,
   "metadata": {},
   "outputs": [],
   "source": [
    "# Import libraries and modules\n",
    "import numpy as np \n",
    "import pandas as pd\n",
    "import matplotlib.pyplot as plt\n",
    "import seaborn as sns\n",
    "from sklearn.feature_extraction.text import CountVectorizer\n",
    "from sklearn.feature_extraction.text import TfidfTransformer\n",
    "from sklearn.metrics import classification_report,confusion_matrix,accuracy_score\n",
    "from sklearn.naive_bayes import MultinomialNB\n",
    "from sklearn.svm import LinearSVC\n",
    "from sklearn import tree\n",
    "%matplotlib inline\n",
    "import warnings\n",
    "warnings.filterwarnings('ignore')"
   ]
  },
  {
   "cell_type": "code",
   "execution_count": 2,
   "metadata": {},
   "outputs": [
    {
     "data": {
      "text/plain": [
       "(15000, 2)"
      ]
     },
     "execution_count": 2,
     "metadata": {},
     "output_type": "execute_result"
    }
   ],
   "source": [
    "# Read and display data shape\n",
    "imdb = pd.read_csv('IMDB_dataset.csv', nrows=15000)\n",
    "imdb.shape"
   ]
  },
  {
   "cell_type": "code",
   "execution_count": 3,
   "metadata": {},
   "outputs": [],
   "source": [
    "# # Display last 5 rows of data\n",
    "# imdb.tail()"
   ]
  },
  {
   "cell_type": "code",
   "execution_count": 4,
   "metadata": {},
   "outputs": [],
   "source": [
    "# # Summarize data\n",
    "# imdb.describe()"
   ]
  },
  {
   "cell_type": "markdown",
   "metadata": {},
   "source": [
    "#### Check  distribution of data"
   ]
  },
  {
   "cell_type": "code",
   "execution_count": 5,
   "metadata": {},
   "outputs": [],
   "source": [
    "# class_dist = imdb.groupby('sentiment').size()\n",
    "# labels = 'positive','negative',\n",
    "# fig, ax = plt.subplots()\n",
    "# ax.set_title('Class Distribution', y=1.08)\n",
    "# ax.pie(class_dist, labels=labels, autopct='%1.1f%%',\n",
    "#        shadow=False, startangle=90)\n",
    "# ax.axis('equal')"
   ]
  },
  {
   "cell_type": "code",
   "execution_count": 6,
   "metadata": {},
   "outputs": [
    {
     "data": {
      "text/plain": [
       "array([1, 0])"
      ]
     },
     "execution_count": 6,
     "metadata": {},
     "output_type": "execute_result"
    }
   ],
   "source": [
    "# Import label encoder \n",
    "from sklearn import preprocessing \n",
    "\n",
    "# label_encoder object knows how to understand word labels. \n",
    "label_encoder = preprocessing.LabelEncoder() \n",
    "\n",
    "# Encode labels in column 'species'. \n",
    "imdb['sentiment']= label_encoder.fit_transform(imdb['sentiment']) \n",
    "\n",
    "imdb['sentiment'].unique() \n"
   ]
  },
  {
   "cell_type": "markdown",
   "metadata": {},
   "source": [
    "#### Movie reviews vary in length. For example one movie review may contain 20 words while a second one 500 words.Below is a visualization of review length"
   ]
  },
  {
   "cell_type": "code",
   "execution_count": 7,
   "metadata": {
    "tags": []
   },
   "outputs": [],
   "source": [
    "# lengths = [len(i) for i in imdb['review']]\n",
    "# print(f'Max length of sentence: {max(lengths)}')\n",
    "# print(f'Average length of sentence: {np.mean(lengths)}')\n",
    "\n",
    "# sns.distplot(lengths)"
   ]
  },
  {
   "cell_type": "markdown",
   "metadata": {},
   "source": [
    "#### Bag of Words\n",
    "In order to perform machine learning on text documents, we first need to turn the text content into numerical feature vectors. Text preprocessing, tokenizing and filtering of stopwords are all included in CountVectorizer, which builds a dictionary of features and transforms documents to feature vectors"
   ]
  },
  {
   "cell_type": "code",
   "execution_count": 8,
   "metadata": {
    "tags": []
   },
   "outputs": [],
   "source": [
    "# cv = CountVectorizer(stop_words='english') \n",
    "\n",
    "# #`data` is an array of strings\n",
    "\n",
    "# data_cv = cv.fit_transform(imdb['review']) \n",
    " \n",
    "# print(data_cv)"
   ]
  },
  {
   "cell_type": "markdown",
   "metadata": {},
   "source": [
    "CountVectorizer supports counts of N-grams of words or consecutive characters. Once fitted, the vectorizer has built a dictionary of feature indices:"
   ]
  },
  {
   "cell_type": "code",
   "execution_count": 9,
   "metadata": {
    "tags": [
     "outputPrepend"
    ]
   },
   "outputs": [],
   "source": [
    "# #create a dictionary with feature names as keys and row elements as values\n",
    "# print(cv.vocabulary_)"
   ]
  },
  {
   "cell_type": "markdown",
   "metadata": {},
   "source": [
    "#### TFIDF\n",
    "Occurrence count is a good start but there is an issue: longer documents will have higher average count values than shorter documents, even though they might talk about the same topics.\n",
    "\n",
    "To avoid these potential discrepancies it suffices to divide the number of occurrences of each word in a document by the total number of words in the document: these new features are called tf for Term Frequencies.\n",
    "\n",
    "Another refinement on top of tf is to downscale weights for words that occur in many documents in the corpus and are therefore less informative than those that occur only in a smaller portion of the corpus.\n",
    "\n",
    "This downscaling is called tf–idf for “Term Frequency times Inverse Document Frequency”.\n",
    "\n",
    "Both tf and tf–idf can be computed as follows using TfidfTransformer:"
   ]
  },
  {
   "cell_type": "code",
   "execution_count": 10,
   "metadata": {
    "tags": []
   },
   "outputs": [],
   "source": [
    "# tfidf_transformer = TfidfTransformer()\n",
    "# data_tfidf = tfidf_transformer.fit_transform(data_cv)\n",
    "# print(data_tfidf)"
   ]
  },
  {
   "cell_type": "code",
   "execution_count": null,
   "metadata": {},
   "outputs": [],
   "source": []
  },
  {
   "cell_type": "code",
   "execution_count": 11,
   "metadata": {},
   "outputs": [],
   "source": [
    "# Import train_test_split\n",
    "from sklearn.model_selection import train_test_split\n",
    "\n",
    "# X_train, X_test, y_train, y_test = train_test_split(data_tfidf, imdb['sentiment'], test_size=0.30)"
   ]
  },
  {
   "cell_type": "markdown",
   "metadata": {},
   "source": [
    "### Now that we have our features, we can train a classifier to try to predict the category of a post. Let’s start with a naïve Bayes classifier, which provides a nice baseline for this task. scikit-learn includes several variants of this classifier; the one most suitable for word counts is the multinomial variant:"
   ]
  },
  {
   "cell_type": "markdown",
   "metadata": {},
   "source": [
    "####  Naive Bayes Classification"
   ]
  },
  {
   "cell_type": "code",
   "execution_count": 12,
   "metadata": {
    "tags": []
   },
   "outputs": [],
   "source": [
    "# bayes_clf = MultinomialNB().fit(X_train, y_train)\n",
    "# bayes_clf_predicted = bayes_clf.predict(X_test)\n",
    "# print('Test accuracy: %.2f%%' % (np.mean(bayes_clf_predicted == y_test)*100))"
   ]
  },
  {
   "cell_type": "code",
   "execution_count": 13,
   "metadata": {
    "tags": []
   },
   "outputs": [],
   "source": [
    "# #Classification report for bag of words for Naive Bayes classification\n",
    "# bayes_clf_report=classification_report(y_test,bayes_clf_predicted,target_names=['Positive','Negative'])\n",
    "# print(bayes_clf_report)"
   ]
  },
  {
   "cell_type": "code",
   "execution_count": 14,
   "metadata": {
    "tags": []
   },
   "outputs": [],
   "source": [
    "# bayes_clf_cm=confusion_matrix(y_test,bayes_clf_predicted,labels=[1,0])\n",
    "# print(bayes_clf_cm)\n",
    "\n",
    "# # Plot Confusion Matrix for Naive Bayes\n",
    "# bayes_clf_dm = pd.DataFrame(bayes_clf_cm, index = [i for i in ['positive', 'negative']],\n",
    "#               columns = [i for i in ['positive', 'negative']])\n",
    "# plt.figure(figsize = (10,7))\n",
    "# sns.heatmap(bayes_clf_dm, annot=True,cmap=\"OrRd\")"
   ]
  },
  {
   "cell_type": "markdown",
   "metadata": {},
   "source": [
    "####  Linear SVC Classification"
   ]
  },
  {
   "cell_type": "code",
   "execution_count": 15,
   "metadata": {
    "tags": []
   },
   "outputs": [],
   "source": [
    "# LinearSVC_clf = LinearSVC().fit(X_train, y_train)\n",
    "# LinearSVC_clf_predicted = LinearSVC_clf.predict(X_test)\n",
    "# print('Test accuracy: %.2f%%' % (np.mean(LinearSVC_clf_predicted == y_test)*100))"
   ]
  },
  {
   "cell_type": "code",
   "execution_count": 16,
   "metadata": {
    "tags": []
   },
   "outputs": [],
   "source": [
    "# #Classification report for bag of words \n",
    "# LinearSVC_clf_report=classification_report(y_test,LinearSVC_clf_predicted,target_names=['Positive','Negative'])\n",
    "# print(LinearSVC_clf_report)"
   ]
  },
  {
   "cell_type": "code",
   "execution_count": 17,
   "metadata": {
    "tags": []
   },
   "outputs": [],
   "source": [
    "# LinearSVC_clf_cm=confusion_matrix(y_test,LinearSVC_clf_predicted,labels=[1,0])\n",
    "# print(LinearSVC_clf_cm)\n",
    "\n",
    "# # Plot Confusion Matrix\n",
    "# LinearSVC_clf_df_cm = pd.DataFrame(LinearSVC_clf_cm, index = [i for i in ['positive', 'negative']],\n",
    "#               columns = [i for i in ['positive', 'negative']])\n",
    "# plt.figure(figsize = (10,7))\n",
    "# sns.heatmap(LinearSVC_clf_df_cm, annot=True,cmap=\"OrRd\")"
   ]
  },
  {
   "cell_type": "markdown",
   "metadata": {},
   "source": [
    "####  Decision Tree Classification"
   ]
  },
  {
   "cell_type": "code",
   "execution_count": 18,
   "metadata": {
    "tags": []
   },
   "outputs": [],
   "source": [
    "# DecisionTree_clf = tree.DecisionTreeClassifier().fit(X_train, y_train)\n",
    "# DecisionTree_clf_predicted = DecisionTree_clf.predict(X_test)\n",
    "# print('Test accuracy: %.2f%%' % (np.mean(DecisionTree_clf_predicted == y_test)*100))"
   ]
  },
  {
   "cell_type": "code",
   "execution_count": 19,
   "metadata": {},
   "outputs": [],
   "source": [
    "# #Classification report for bag of words \n",
    "# DecisionTree_clf_report=classification_report(y_test,DecisionTree_clf_predicted,target_names=['Positive','Negative'])\n",
    "# print(DecisionTree_clf_report)"
   ]
  },
  {
   "cell_type": "code",
   "execution_count": 20,
   "metadata": {},
   "outputs": [],
   "source": [
    "# DecisionTree_clf_cm=confusion_matrix(y_test,DecisionTree_clf_predicted,labels=[1,0])\n",
    "# print(DecisionTree_clf_cm)\n",
    "\n",
    "# # Plot Confusion Matrix\n",
    "# DecisionTree_clf_df_cm = pd.DataFrame(DecisionTree_clf_cm, index = [i for i in ['positive', 'negative']],\n",
    "#               columns = [i for i in ['positive', 'negative']])\n",
    "# plt.figure(figsize = (10,7))\n",
    "# sns.heatmap(DecisionTree_clf_df_cm, annot=True,cmap=\"OrRd\")"
   ]
  },
  {
   "cell_type": "markdown",
   "metadata": {},
   "source": [
    "#### Word Cloud"
   ]
  },
  {
   "cell_type": "code",
   "execution_count": 21,
   "metadata": {
    "scrolled": true
   },
   "outputs": [],
   "source": [
    "# from wordcloud import WordCloud,STOPWORDS\n",
    "\n",
    "# #word cloud for positive review words\n",
    "# plt.figure(figsize=(10,10))\n",
    "# positive_text=imdb.review[1]\n",
    "# WC=WordCloud(width=1000,height=500,max_words=500,min_font_size=5)\n",
    "# positive_words=WC.generate(positive_text)\n",
    "# plt.imshow(positive_words,interpolation='bilinear')"
   ]
  },
  {
   "cell_type": "code",
   "execution_count": 22,
   "metadata": {},
   "outputs": [],
   "source": [
    "# #Word cloud for negative review words\n",
    "# plt.figure(figsize=(10,10))\n",
    "# negative_text=imdb.review[5052]\n",
    "# WC=WordCloud(width=1000,height=500,max_words=500,min_font_size=5)\n",
    "# negative_words=WC.generate(negative_text)\n",
    "# plt.imshow(negative_words,interpolation='bilinear')\n",
    "# plt.show"
   ]
  },
  {
   "cell_type": "code",
   "execution_count": 23,
   "metadata": {},
   "outputs": [],
   "source": [
    "import nltk\n",
    "from nltk.stem.porter import PorterStemmer\n",
    "from nltk.tokenize import word_tokenize\n",
    "from bs4 import BeautifulSoup\n",
    "import re,string,unicodedata"
   ]
  },
  {
   "cell_type": "code",
   "execution_count": 24,
   "metadata": {},
   "outputs": [],
   "source": [
    "# #Removing the html strips\n",
    "def strip_html(text):\n",
    "    soup = BeautifulSoup(text, \"html.parser\")\n",
    "    return soup.get_text()\n",
    "\n",
    "#Removing the square brackets\n",
    "def remove_between_square_brackets(text):\n",
    "    return re.sub('\\[[^]]*\\]', '', text)\n",
    "\n",
    "#Define function for removing special characters\n",
    "def remove_special_characters(text, remove_digits=True):\n",
    "    pattern=r'[^a-zA-z0-9\\s]'\n",
    "    text=re.sub(pattern,'',text)\n",
    "    return text\n",
    "\n",
    "#Stemming the text\n",
    "def simple_stemmer(text):\n",
    "    ps=nltk.porter.PorterStemmer()\n",
    "    text= ' '.join([ps.stem(word) for word in text.split()])\n",
    "    return text\n",
    "\n",
    "#Removing the noisy text\n",
    "def denoise_text(text):\n",
    "    text = strip_html(text)\n",
    "    text = remove_between_square_brackets(text)\n",
    "    text = remove_special_characters(text)\n",
    "    text = simple_stemmer(text)\n",
    "    return text\n",
    "#Apply function on review column\n",
    "imdb['review']=imdb['review'].apply(denoise_text)"
   ]
  },
  {
   "cell_type": "code",
   "execution_count": 25,
   "metadata": {
    "tags": []
   },
   "outputs": [],
   "source": [
    "from nltk.corpus import stopwords\n",
    "#set stopwords to english\n",
    "stop=set(stopwords.words('english'))\n",
    "# print(stop)\n",
    "\n",
    "#removing the stopword and tokenizing\n",
    "imdb['review'] = imdb.apply(lambda row: nltk.word_tokenize(row['review']), axis=1)\n",
    "imdb['review'] = imdb['review'].apply(lambda x: [item for item in x if item not in stop])"
   ]
  },
  {
   "cell_type": "code",
   "execution_count": 26,
   "metadata": {},
   "outputs": [
    {
     "data": {
      "text/html": [
       "<div>\n",
       "<style scoped>\n",
       "    .dataframe tbody tr th:only-of-type {\n",
       "        vertical-align: middle;\n",
       "    }\n",
       "\n",
       "    .dataframe tbody tr th {\n",
       "        vertical-align: top;\n",
       "    }\n",
       "\n",
       "    .dataframe thead th {\n",
       "        text-align: right;\n",
       "    }\n",
       "</style>\n",
       "<table border=\"1\" class=\"dataframe\">\n",
       "  <thead>\n",
       "    <tr style=\"text-align: right;\">\n",
       "      <th></th>\n",
       "      <th>review</th>\n",
       "      <th>sentiment</th>\n",
       "    </tr>\n",
       "  </thead>\n",
       "  <tbody>\n",
       "    <tr>\n",
       "      <th>0</th>\n",
       "      <td>[one, review, ha, mention, watch, 1, Oz, episo...</td>\n",
       "      <td>1</td>\n",
       "    </tr>\n",
       "    <tr>\n",
       "      <th>1</th>\n",
       "      <td>[A, wonder, littl, product, film, techniqu, ve...</td>\n",
       "      <td>1</td>\n",
       "    </tr>\n",
       "    <tr>\n",
       "      <th>2</th>\n",
       "      <td>[I, thought, thi, wa, wonder, way, spend, time...</td>\n",
       "      <td>1</td>\n",
       "    </tr>\n",
       "    <tr>\n",
       "      <th>3</th>\n",
       "      <td>[basic, famili, littl, boy, jake, think, zombi...</td>\n",
       "      <td>0</td>\n",
       "    </tr>\n",
       "    <tr>\n",
       "      <th>4</th>\n",
       "      <td>[petter, mattei, love, time, money, visual, st...</td>\n",
       "      <td>1</td>\n",
       "    </tr>\n",
       "  </tbody>\n",
       "</table>\n",
       "</div>"
      ],
      "text/plain": [
       "                                              review  sentiment\n",
       "0  [one, review, ha, mention, watch, 1, Oz, episo...          1\n",
       "1  [A, wonder, littl, product, film, techniqu, ve...          1\n",
       "2  [I, thought, thi, wa, wonder, way, spend, time...          1\n",
       "3  [basic, famili, littl, boy, jake, think, zombi...          0\n",
       "4  [petter, mattei, love, time, money, visual, st...          1"
      ]
     },
     "execution_count": 26,
     "metadata": {},
     "output_type": "execute_result"
    }
   ],
   "source": [
    "imdb.head()"
   ]
  },
  {
   "cell_type": "code",
   "execution_count": null,
   "metadata": {
    "tags": []
   },
   "outputs": [],
   "source": [
    "from gensim.models.fasttext import FastText\n",
    "# Set values for various parameters\n",
    "feature_size = 150    # Word vector dimensionality  \n",
    "window_context = 50          # Context window size                                                                                    \n",
    "min_word_count = 5   # Minimum word count                        \n",
    "sample = 1e-2   # Downsample setting for frequent words\n",
    "fastxt = FastText(sentences=imdb.review[:], size=feature_size, window=window_context, \n",
    "                    min_count=min_word_count,sample=sample, sg=1, iter=4)\n",
    "print(fastxt)"
   ]
  },
  {
   "cell_type": "code",
   "execution_count": null,
   "metadata": {},
   "outputs": [],
   "source": [
    "# Get keyvectors  and dictionary of words of FastText model\n",
    "\n",
    "word_keyvec = (fastxt.wv.vectors_vocab)\n",
    "\n",
    "word2index = {} # Initialize empty dictionary for word to index\n",
    "for index, word in enumerate(fastxt.wv.index2word): # Generae word index\n",
    "    word2index[word] = index\n"
   ]
  },
  {
   "cell_type": "code",
   "execution_count": null,
   "metadata": {},
   "outputs": [],
   "source": [
    "from keras.preprocessing.sequence import pad_sequences\n",
    "\n",
    "new_imdb_review = [] \n",
    "for sent in imdb.review:\n",
    "    temp_sent = []\n",
    "    for word in sent[:feature_size]:\n",
    "            try:\n",
    "                temp_sent.append(word2index[word])\n",
    "            except KeyError:\n",
    "                      continue\n",
    "    new_imdb_review.append(temp_sent)\n",
    "    \n",
    "padded_imdb_review = pad_sequences(new_imdb_review, maxlen=feature_size) # Use keras to pad leading 0s to reviews\n",
    "padded_imdb_review = np.array(padded_imdb_review) # Convert the review list to a numpy array\n"
   ]
  },
  {
   "cell_type": "code",
   "execution_count": null,
   "metadata": {},
   "outputs": [],
   "source": [
    "padded_imdb_review[1]"
   ]
  },
  {
   "cell_type": "code",
   "execution_count": null,
   "metadata": {},
   "outputs": [],
   "source": [
    "from keras.callbacks import Callback\n",
    "from keras.models import Sequential\n",
    "from keras.layers import Dense, Dropout, Activation\n",
    "from keras.layers import Embedding\n",
    "from keras.preprocessing.sequence import pad_sequences\n",
    "from keras.layers import Conv1D, GlobalMaxPooling1D\n",
    "from keras.callbacks import EarlyStopping\n",
    "\n",
    "\n",
    "# set parameters:\n",
    "max_features = len(word_keyvec)\n",
    "maxlen = embedding_dims = feature_size\n",
    "batch_size = 32\n",
    "filters = 250\n",
    "kernel_size = 3\n",
    "hidden_dims = 200\n",
    "epochs = 6\n",
    "\n",
    "class TestCallback(Callback):\n",
    "    \n",
    "    def __init__(self, test_data):\n",
    "        self.test_data = test_data\n",
    "\n",
    "    def on_epoch_end(self, epoch, logs={}):\n",
    "        x, y = self.test_data\n",
    "        loss, acc = self.model.evaluate(x, y, verbose=0)\n",
    "        print('\\nTesting loss: {}, acc: {}\\n'.format(loss, acc))"
   ]
  },
  {
   "cell_type": "code",
   "execution_count": null,
   "metadata": {},
   "outputs": [],
   "source": [
    "x_train, x_test, y_train, y_test = train_test_split(padded_imdb_review, imdb.sentiment, test_size=0.20, shuffle=True)\n",
    "x_train, x_val, y_train, y_val = train_test_split(x_train, y_train, test_size=0.25, random_state=1, shuffle=True)\n",
    "\n",
    "print(len(x_train), 'train sequences')\n",
    "print(len(x_val), 'val sequences')\n",
    "print(len(x_test), 'test sequences')"
   ]
  },
  {
   "cell_type": "code",
   "execution_count": null,
   "metadata": {},
   "outputs": [],
   "source": [
    "print('Build model...')\n",
    "cnn_model = Sequential()\n",
    "\n",
    "# we start off with an efficient embedding layer which maps\n",
    "# our vocab indices into embedding_dims dimensions\n",
    "cnn_model.add(Embedding(max_features,\n",
    "                    embedding_dims,\n",
    "                    weights = [np.array(word_keyvec)],\n",
    "                    trainable=True,\n",
    "                    input_length=maxlen))\n",
    "cnn_model.add(Dropout(0.2))\n",
    "\n",
    "# we add a Convolution1D, which will learn filters\n",
    "# word group filters of size filter_length:\n",
    "cnn_model.add(Conv1D(filters,\n",
    "                 kernel_size,\n",
    "                 padding='valid',\n",
    "                 activation='relu',\n",
    "                 strides=1))\n",
    "# we use max pooling:\n",
    "cnn_model.add(GlobalMaxPooling1D())\n",
    "\n",
    "# We add a vanilla hidden layer:\n",
    "cnn_model.add(Dense(hidden_dims))\n",
    "cnn_model.add(Dropout(0.5))\n",
    "cnn_model.add(Activation('relu'))\n",
    "\n",
    "# We project onto a single unit output layer, and squash it with a sigmoid:\n",
    "cnn_model.add(Dense(1))\n",
    "cnn_model.add(Activation('sigmoid'))\n",
    "\n",
    "cnn_model.compile(loss='binary_crossentropy',\n",
    "              optimizer='adam',\n",
    "              metrics=['accuracy'])\n",
    "cnn_model.summary()"
   ]
  },
  {
   "cell_type": "code",
   "execution_count": null,
   "metadata": {},
   "outputs": [],
   "source": [
    "# Fit cnn model\n",
    "cnn_model_hist = cnn_model.fit(x_train, y_train,\n",
    "          batch_size=batch_size,\n",
    "          epochs=epochs,\n",
    "            validation_data=(x_val, y_val),\n",
    "                 callbacks=[TestCallback((x_test, y_test)), EarlyStopping(monitor='val_loss', patience=2)])"
   ]
  },
  {
   "cell_type": "code",
   "execution_count": 36,
   "metadata": {},
   "outputs": [
    {
     "data": {
      "text/plain": [
       "<matplotlib.legend.Legend at 0x7ffa69afd090>"
      ]
     },
     "execution_count": 36,
     "metadata": {},
     "output_type": "execute_result"
    },
    {
     "data": {
      "image/png": "[encoded data removed]",
      "text/plain": [
       "<Figure size 432x288 with 1 Axes>"
      ]
     },
     "metadata": {
      "needs_background": "light"
     },
     "output_type": "display_data"
    },
    {
     "data": {
      "image/png": "[encoded data removed]",
      "text/plain": [
       "<Figure size 432x288 with 1 Axes>"
      ]
     },
     "metadata": {
      "needs_background": "light"
     },
     "output_type": "display_data"
    }
   ],
   "source": [
    "# summarize history for Loss\n",
    "plt.figure()\n",
    "plt.plot(cnn_model_hist.history['loss'], lw=2.0, color='b', label='Training')\n",
    "plt.plot(cnn_model_hist.history['val_loss'], lw=2.0, color='g', label='Validation')\n",
    "plt.title('CNN sentiment')\n",
    "plt.xlabel('Epochs')\n",
    "plt.ylabel('Cross-Entropy Loss')\n",
    "plt.legend(loc='upper right')\n",
    "\n",
    "# summarize history for accuracy\n",
    "plt.figure()\n",
    "plt.plot(cnn_model_hist.history['accuracy'], lw=2.0, color='b', label='Training')\n",
    "plt.plot(cnn_model_hist.history['val_accuracy'], lw=2.0, color='g', label='Validation')\n",
    "plt.title('LSTM sentiment')\n",
    "plt.xlabel('Epochs')\n",
    "plt.ylabel('Accuracy')\n",
    "plt.legend(loc='upper left')"
   ]
  },
  {
   "cell_type": "code",
   "execution_count": 42,
   "metadata": {},
   "outputs": [
    {
     "name": "stdout",
     "output_type": "stream",
     "text": [
      "Model: \"sequential_4\"\n",
      "_________________________________________________________________\n",
      "Layer (type)                 Output Shape              Param #   \n",
      "=================================================================\n",
      "embedding_4 (Embedding)      (None, 100, 100)          2345900   \n",
      "_________________________________________________________________\n",
      "bidirectional_1 (Bidirection (None, 100, 60)           31440     \n",
      "_________________________________________________________________\n",
      "global_max_pooling1d_2 (Glob (None, 60)                0         \n",
      "_________________________________________________________________\n",
      "dense_4 (Dense)              (None, 20)                1220      \n",
      "_________________________________________________________________\n",
      "dropout_3 (Dropout)          (None, 20)                0         \n",
      "_________________________________________________________________\n",
      "dense_5 (Dense)              (None, 1)                 21        \n",
      "=================================================================\n",
      "Total params: 2,378,581\n",
      "Trainable params: 2,378,581\n",
      "Non-trainable params: 0\n",
      "_________________________________________________________________\n"
     ]
    }
   ],
   "source": [
    "from keras.layers import Dense , Input , LSTM , Embedding, Dropout , Activation, GRU, Flatten\n",
    "from keras.layers import Bidirectional, GlobalMaxPool1D\n",
    "\n",
    "lstm_model = Sequential()\n",
    "# we start off with an efficient embedding layer which maps\n",
    "# our vocab indices into embedding_dims dimensions\n",
    "lstm_model.add(Embedding(max_features,\n",
    "                    embedding_dims,\n",
    "                    weights = [np.array(word_keyvec)],\n",
    "                    trainable=True,\n",
    "                    input_length=maxlen))\n",
    "lstm_model.add(Bidirectional(LSTM(30, return_sequences = True, recurrent_dropout=0.5)))\n",
    "lstm_model.add(GlobalMaxPool1D())\n",
    "lstm_model.add(Dense(20, activation=\"relu\"))\n",
    "lstm_model.add(Dropout(0.5))\n",
    "lstm_model.add(Dense(1, activation=\"sigmoid\"))\n",
    "lstm_model.compile(loss='binary_crossentropy',\n",
    "              optimizer='adam',\n",
    "              metrics=['accuracy'])\n",
    "lstm_model.summary()"
   ]
  },
  {
   "cell_type": "code",
   "execution_count": 43,
   "metadata": {},
   "outputs": [
    {
     "name": "stdout",
     "output_type": "stream",
     "text": [
      "Train on 9000 samples, validate on 3000 samples\n",
      "Epoch 1/4\n",
      "9000/9000 [==============================] - 72s 8ms/step - loss: 0.5976 - accuracy: 0.6691 - val_loss: 0.4326 - val_accuracy: 0.8167\n",
      "\n",
      "Testing loss: 0.4235051236152649, acc: 0.8176666498184204\n",
      "\n",
      "Epoch 2/4\n",
      "9000/9000 [==============================] - 64s 7ms/step - loss: 0.3978 - accuracy: 0.8384 - val_loss: 0.3807 - val_accuracy: 0.8287\n",
      "\n",
      "Testing loss: 0.37489493989944456, acc: 0.8256666660308838\n",
      "\n",
      "Epoch 3/4\n",
      "9000/9000 [==============================] - 64s 7ms/step - loss: 0.2792 - accuracy: 0.8981 - val_loss: 0.3699 - val_accuracy: 0.8363\n",
      "\n",
      "Testing loss: 0.3613954753081004, acc: 0.843666672706604\n",
      "\n",
      "Epoch 4/4\n",
      "9000/9000 [==============================] - 66s 7ms/step - loss: 0.2005 - accuracy: 0.9364 - val_loss: 0.3914 - val_accuracy: 0.8380\n",
      "\n",
      "Testing loss: 0.3852478039264679, acc: 0.8413333296775818\n",
      "\n"
     ]
    }
   ],
   "source": [
    "# fit lstm model\n",
    "lstm_model_hist = lstm_model.fit(x_train, y_train,\n",
    "          batch_size=batch_size,\n",
    "          epochs=epochs,\n",
    "            validation_data=(x_val, y_val),\n",
    "                 callbacks=[TestCallback((x_test, y_test)), EarlyStopping(monitor='val_loss', patience=2)])"
   ]
  },
  {
   "cell_type": "code",
   "execution_count": 44,
   "metadata": {},
   "outputs": [
    {
     "data": {
      "text/plain": [
       "<matplotlib.legend.Legend at 0x7ffa6a0355d0>"
      ]
     },
     "execution_count": 44,
     "metadata": {},
     "output_type": "execute_result"
    },
    {
     "data": {
      "image/png": "[encoded data removed]",
      "text/plain": [
       "<Figure size 432x288 with 1 Axes>"
      ]
     },
     "metadata": {
      "needs_background": "light"
     },
     "output_type": "display_data"
    },
    {
     "data": {
      "image/png": "[encoded data removed]",
      "text/plain": [
       "<Figure size 432x288 with 1 Axes>"
      ]
     },
     "metadata": {
      "needs_background": "light"
     },
     "output_type": "display_data"
    }
   ],
   "source": [
    "# summarize history for Loss\n",
    "plt.figure()\n",
    "plt.plot(lstm_model_hist.history['loss'], lw=2.0, color='b', label='Training')\n",
    "plt.plot(lstm_model_hist.history['val_loss'], lw=2.0, color='g', label='Validation')\n",
    "plt.title('CNN sentiment')\n",
    "plt.xlabel('Epochs')\n",
    "plt.ylabel('Cross-Entropy Loss')\n",
    "plt.legend(loc='upper right')\n",
    "\n",
    "# summarize history for accuracy\n",
    "plt.figure()\n",
    "plt.plot(lstm_model_hist.history['accuracy'], lw=2.0, color='b', label='Training')\n",
    "plt.plot(lstm_model_hist.history['val_accuracy'], lw=2.0, color='g', label='Validation')\n",
    "plt.title('LSTM sentiment')\n",
    "plt.xlabel('Epochs')\n",
    "plt.ylabel('Accuracy')\n",
    "plt.legend(loc='upper left')"
   ]
  },
  {
   "cell_type": "code",
   "execution_count": null,
   "metadata": {},
   "outputs": [],
   "source": []
  }
 ],
 "metadata": {
  "kernelspec": {
   "display_name": "Python 3.7.6 64-bit ('base': conda)",
   "language": "python",
   "name": "python37664bitbaseconda18efcd73aca0417b869319057f882f5b"
  }
 },
 "nbformat": 4,
 "nbformat_minor": 2
}
