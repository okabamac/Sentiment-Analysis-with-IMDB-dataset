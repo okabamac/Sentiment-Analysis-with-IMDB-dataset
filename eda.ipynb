{
 "cells": [
  {
   "cell_type": "code",
   "execution_count": null,
   "metadata": {},
   "outputs": [],
   "source": []
  },
  {
   "cell_type": "code",
   "execution_count": 1,
   "metadata": {},
   "outputs": [],
   "source": [
    "# Import libraries and modules\n",
    "import numpy as np \n",
    "import pandas as pd\n",
    "import matplotlib.pyplot as plt\n",
    "import seaborn as sns\n",
    "from sklearn.feature_extraction.text import CountVectorizer\n",
    "from sklearn.feature_extraction.text import TfidfTransformer\n",
    "from sklearn.metrics import classification_report,confusion_matrix,accuracy_score\n",
    "from sklearn.naive_bayes import MultinomialNB\n",
    "from sklearn.svm import LinearSVC\n",
    "from sklearn import tree\n",
    "%matplotlib inline\n",
    "# import warnings\n",
    "# warnings.filterwarnings('ignore')"
   ]
  },
  {
   "cell_type": "code",
   "execution_count": 2,
   "metadata": {},
   "outputs": [
    {
     "data": {
      "text/plain": [
       "(50000, 2)"
      ]
     },
     "execution_count": 2,
     "metadata": {},
     "output_type": "execute_result"
    }
   ],
   "source": [
    "# Read and display data shape\n",
    "imdb = pd.read_csv('IMDB_dataset.csv')\n",
    "imdb.shape"
   ]
  },
  {
   "cell_type": "code",
   "execution_count": 3,
   "metadata": {},
   "outputs": [],
   "source": [
    "# # Display last 5 rows of data\n",
    "# imdb.tail()"
   ]
  },
  {
   "cell_type": "code",
   "execution_count": 4,
   "metadata": {},
   "outputs": [],
   "source": [
    "# # Summarize data\n",
    "# imdb.describe()"
   ]
  },
  {
   "cell_type": "markdown",
   "metadata": {},
   "source": [
    "#### Check  distribution of data"
   ]
  },
  {
   "cell_type": "code",
   "execution_count": 5,
   "metadata": {},
   "outputs": [],
   "source": [
    "# class_dist = imdb.groupby('sentiment').size()\n",
    "# labels = 'positive','negative',\n",
    "# fig, ax = plt.subplots()\n",
    "# ax.set_title('Class Distribution', y=1.08)\n",
    "# ax.pie(class_dist, labels=labels, autopct='%1.1f%%',\n",
    "#        shadow=False, startangle=90)\n",
    "# ax.axis('equal')"
   ]
  },
  {
   "cell_type": "code",
   "execution_count": 6,
   "metadata": {},
   "outputs": [
    {
     "data": {
      "text/plain": [
       "array([1, 0])"
      ]
     },
     "execution_count": 6,
     "metadata": {},
     "output_type": "execute_result"
    }
   ],
   "source": [
    "# Import label encoder \n",
    "from sklearn import preprocessing \n",
    "\n",
    "# label_encoder object knows how to understand word labels. \n",
    "label_encoder = preprocessing.LabelEncoder() \n",
    "\n",
    "# Encode labels in column 'species'. \n",
    "imdb['sentiment']= label_encoder.fit_transform(imdb['sentiment']) \n",
    "\n",
    "imdb['sentiment'].unique() \n"
   ]
  },
  {
   "cell_type": "markdown",
   "metadata": {},
   "source": [
    "#### Movie reviews vary in length. For example one movie review may contain 20 words while a second one 500 words.Below is a visualization of review length"
   ]
  },
  {
   "cell_type": "code",
   "execution_count": 7,
   "metadata": {
    "tags": []
   },
   "outputs": [],
   "source": [
    "# lengths = [len(i) for i in imdb['review']]\n",
    "# print(f'Max length of sentence: {max(lengths)}')\n",
    "# print(f'Average length of sentence: {np.mean(lengths)}')\n",
    "\n",
    "# sns.distplot(lengths)"
   ]
  },
  {
   "cell_type": "markdown",
   "metadata": {},
   "source": [
    "#### Bag of Words\n",
    "In order to perform machine learning on text documents, we first need to turn the text content into numerical feature vectors. Text preprocessing, tokenizing and filtering of stopwords are all included in CountVectorizer, which builds a dictionary of features and transforms documents to feature vectors"
   ]
  },
  {
   "cell_type": "code",
   "execution_count": 8,
   "metadata": {
    "tags": []
   },
   "outputs": [],
   "source": [
    "# cv = CountVectorizer(stop_words='english') \n",
    "\n",
    "# #`data` is an array of strings\n",
    "\n",
    "# data_cv = cv.fit_transform(imdb['review']) \n",
    " \n",
    "# print(data_cv)"
   ]
  },
  {
   "cell_type": "markdown",
   "metadata": {},
   "source": [
    "CountVectorizer supports counts of N-grams of words or consecutive characters. Once fitted, the vectorizer has built a dictionary of feature indices:"
   ]
  },
  {
   "cell_type": "code",
   "execution_count": 9,
   "metadata": {
    "tags": [
     "outputPrepend"
    ]
   },
   "outputs": [],
   "source": [
    "# #create a dictionary with feature names as keys and row elements as values\n",
    "# print(cv.vocabulary_)"
   ]
  },
  {
   "cell_type": "markdown",
   "metadata": {},
   "source": [
    "#### TFIDF\n",
    "Occurrence count is a good start but there is an issue: longer documents will have higher average count values than shorter documents, even though they might talk about the same topics.\n",
    "\n",
    "To avoid these potential discrepancies it suffices to divide the number of occurrences of each word in a document by the total number of words in the document: these new features are called tf for Term Frequencies.\n",
    "\n",
    "Another refinement on top of tf is to downscale weights for words that occur in many documents in the corpus and are therefore less informative than those that occur only in a smaller portion of the corpus.\n",
    "\n",
    "This downscaling is called tf–idf for “Term Frequency times Inverse Document Frequency”.\n",
    "\n",
    "Both tf and tf–idf can be computed as follows using TfidfTransformer:"
   ]
  },
  {
   "cell_type": "code",
   "execution_count": 10,
   "metadata": {
    "tags": []
   },
   "outputs": [],
   "source": [
    "# tfidf_transformer = TfidfTransformer()\n",
    "# data_tfidf = tfidf_transformer.fit_transform(data_cv)\n",
    "# print(data_tfidf)"
   ]
  },
  {
   "cell_type": "code",
   "execution_count": null,
   "metadata": {},
   "outputs": [],
   "source": []
  },
  {
   "cell_type": "code",
   "execution_count": 11,
   "metadata": {},
   "outputs": [],
   "source": [
    "# Import train_test_split\n",
    "from sklearn.model_selection import train_test_split\n",
    "\n",
    "# X_train, X_test, y_train, y_test = train_test_split(data_tfidf, imdb['sentiment'], test_size=0.30)"
   ]
  },
  {
   "cell_type": "markdown",
   "metadata": {},
   "source": [
    "### Now that we have our features, we can train a classifier to try to predict the category of a post. Let’s start with a naïve Bayes classifier, which provides a nice baseline for this task. scikit-learn includes several variants of this classifier; the one most suitable for word counts is the multinomial variant:"
   ]
  },
  {
   "cell_type": "markdown",
   "metadata": {},
   "source": [
    "####  Naive Bayes Classification"
   ]
  },
  {
   "cell_type": "code",
   "execution_count": 12,
   "metadata": {
    "tags": []
   },
   "outputs": [],
   "source": [
    "# bayes_clf = MultinomialNB().fit(X_train, y_train)\n",
    "# bayes_clf_predicted = bayes_clf.predict(X_test)\n",
    "# print('Test accuracy: %.2f%%' % (np.mean(bayes_clf_predicted == y_test)*100))"
   ]
  },
  {
   "cell_type": "code",
   "execution_count": 13,
   "metadata": {
    "tags": []
   },
   "outputs": [],
   "source": [
    "# #Classification report for bag of words for Naive Bayes classification\n",
    "# bayes_clf_report=classification_report(y_test,bayes_clf_predicted,target_names=['Positive','Negative'])\n",
    "# print(bayes_clf_report)"
   ]
  },
  {
   "cell_type": "code",
   "execution_count": 14,
   "metadata": {
    "tags": []
   },
   "outputs": [],
   "source": [
    "# bayes_clf_cm=confusion_matrix(y_test,bayes_clf_predicted,labels=[1,0])\n",
    "# print(bayes_clf_cm)\n",
    "\n",
    "# # Plot Confusion Matrix for Naive Bayes\n",
    "# bayes_clf_dm = pd.DataFrame(bayes_clf_cm, index = [i for i in ['positive', 'negative']],\n",
    "#               columns = [i for i in ['positive', 'negative']])\n",
    "# plt.figure(figsize = (10,7))\n",
    "# sns.heatmap(bayes_clf_dm, annot=True,cmap=\"OrRd\")"
   ]
  },
  {
   "cell_type": "markdown",
   "metadata": {},
   "source": [
    "####  Linear SVC Classification"
   ]
  },
  {
   "cell_type": "code",
   "execution_count": 15,
   "metadata": {
    "tags": []
   },
   "outputs": [],
   "source": [
    "# LinearSVC_clf = LinearSVC().fit(X_train, y_train)\n",
    "# LinearSVC_clf_predicted = LinearSVC_clf.predict(X_test)\n",
    "# print('Test accuracy: %.2f%%' % (np.mean(LinearSVC_clf_predicted == y_test)*100))"
   ]
  },
  {
   "cell_type": "code",
   "execution_count": 16,
   "metadata": {
    "tags": []
   },
   "outputs": [],
   "source": [
    "# #Classification report for bag of words \n",
    "# LinearSVC_clf_report=classification_report(y_test,LinearSVC_clf_predicted,target_names=['Positive','Negative'])\n",
    "# print(LinearSVC_clf_report)"
   ]
  },
  {
   "cell_type": "code",
   "execution_count": 17,
   "metadata": {
    "tags": []
   },
   "outputs": [],
   "source": [
    "# LinearSVC_clf_cm=confusion_matrix(y_test,LinearSVC_clf_predicted,labels=[1,0])\n",
    "# print(LinearSVC_clf_cm)\n",
    "\n",
    "# # Plot Confusion Matrix\n",
    "# LinearSVC_clf_df_cm = pd.DataFrame(LinearSVC_clf_cm, index = [i for i in ['positive', 'negative']],\n",
    "#               columns = [i for i in ['positive', 'negative']])\n",
    "# plt.figure(figsize = (10,7))\n",
    "# sns.heatmap(LinearSVC_clf_df_cm, annot=True,cmap=\"OrRd\")"
   ]
  },
  {
   "cell_type": "markdown",
   "metadata": {},
   "source": [
    "####  Decision Tree Classification"
   ]
  },
  {
   "cell_type": "code",
   "execution_count": 18,
   "metadata": {
    "tags": []
   },
   "outputs": [],
   "source": [
    "# DecisionTree_clf = tree.DecisionTreeClassifier().fit(X_train, y_train)\n",
    "# DecisionTree_clf_predicted = DecisionTree_clf.predict(X_test)\n",
    "# print('Test accuracy: %.2f%%' % (np.mean(DecisionTree_clf_predicted == y_test)*100))"
   ]
  },
  {
   "cell_type": "code",
   "execution_count": 19,
   "metadata": {},
   "outputs": [],
   "source": [
    "# #Classification report for bag of words \n",
    "# DecisionTree_clf_report=classification_report(y_test,DecisionTree_clf_predicted,target_names=['Positive','Negative'])\n",
    "# print(DecisionTree_clf_report)"
   ]
  },
  {
   "cell_type": "code",
   "execution_count": 20,
   "metadata": {},
   "outputs": [],
   "source": [
    "# DecisionTree_clf_cm=confusion_matrix(y_test,DecisionTree_clf_predicted,labels=[1,0])\n",
    "# print(DecisionTree_clf_cm)\n",
    "\n",
    "# # Plot Confusion Matrix\n",
    "# DecisionTree_clf_df_cm = pd.DataFrame(DecisionTree_clf_cm, index = [i for i in ['positive', 'negative']],\n",
    "#               columns = [i for i in ['positive', 'negative']])\n",
    "# plt.figure(figsize = (10,7))\n",
    "# sns.heatmap(DecisionTree_clf_df_cm, annot=True,cmap=\"OrRd\")"
   ]
  },
  {
   "cell_type": "markdown",
   "metadata": {},
   "source": [
    "#### Word Cloud"
   ]
  },
  {
   "cell_type": "code",
   "execution_count": 21,
   "metadata": {
    "scrolled": true
   },
   "outputs": [],
   "source": [
    "# from wordcloud import WordCloud,STOPWORDS\n",
    "\n",
    "# #word cloud for positive review words\n",
    "# plt.figure(figsize=(10,10))\n",
    "# positive_text=imdb.review[1]\n",
    "# WC=WordCloud(width=1000,height=500,max_words=500,min_font_size=5)\n",
    "# positive_words=WC.generate(positive_text)\n",
    "# plt.imshow(positive_words,interpolation='bilinear')"
   ]
  },
  {
   "cell_type": "code",
   "execution_count": 22,
   "metadata": {},
   "outputs": [],
   "source": [
    "# #Word cloud for negative review words\n",
    "# plt.figure(figsize=(10,10))\n",
    "# negative_text=imdb.review[5052]\n",
    "# WC=WordCloud(width=1000,height=500,max_words=500,min_font_size=5)\n",
    "# negative_words=WC.generate(negative_text)\n",
    "# plt.imshow(negative_words,interpolation='bilinear')\n",
    "# plt.show"
   ]
  },
  {
   "cell_type": "code",
   "execution_count": 23,
   "metadata": {},
   "outputs": [],
   "source": [
    "import nltk\n",
    "from nltk.stem.porter import PorterStemmer\n",
    "from nltk.tokenize import word_tokenize\n",
    "from bs4 import BeautifulSoup\n",
    "import re,string,unicodedata"
   ]
  },
  {
   "cell_type": "code",
   "execution_count": 24,
   "metadata": {},
   "outputs": [],
   "source": [
    "# #Removing the html strips\n",
    "def strip_html(text):\n",
    "    soup = BeautifulSoup(text, \"html.parser\")\n",
    "    return soup.get_text()\n",
    "\n",
    "#Removing the square brackets\n",
    "def remove_between_square_brackets(text):\n",
    "    return re.sub('\\[[^]]*\\]', '', text)\n",
    "\n",
    "#Define function for removing special characters\n",
    "def remove_special_characters(text, remove_digits=True):\n",
    "    pattern=r'[^a-zA-z0-9\\s]'\n",
    "    text=re.sub(pattern,'',text)\n",
    "    return text\n",
    "\n",
    "#Stemming the text\n",
    "def simple_stemmer(text):\n",
    "    ps=nltk.porter.PorterStemmer()\n",
    "    text= ' '.join([ps.stem(word) for word in text.split()])\n",
    "    return text\n",
    "\n",
    "#Removing the noisy text\n",
    "def denoise_text(text):\n",
    "    text = strip_html(text)\n",
    "    text = remove_between_square_brackets(text)\n",
    "    text = remove_special_characters(text)\n",
    "    text = simple_stemmer(text)\n",
    "    return text\n",
    "#Apply function on review column\n",
    "imdb['review']=imdb['review'].apply(denoise_text)"
   ]
  },
  {
   "cell_type": "code",
   "execution_count": 25,
   "metadata": {
    "tags": []
   },
   "outputs": [],
   "source": [
    "from nltk.corpus import stopwords\n",
    "#set stopwords to english\n",
    "stop=set(stopwords.words('english'))\n",
    "# print(stop)\n",
    "\n",
    "#removing the stopword and tokenizing\n",
    "imdb['review'] = imdb.apply(lambda row: nltk.word_tokenize(row['review']), axis=1)\n",
    "imdb['review'] = imdb['review'].apply(lambda x: [item for item in x if item not in stop])"
   ]
  },
  {
   "cell_type": "code",
   "execution_count": 26,
   "metadata": {},
   "outputs": [
    {
     "data": {
      "text/html": [
       "<div>\n",
       "<style scoped>\n",
       "    .dataframe tbody tr th:only-of-type {\n",
       "        vertical-align: middle;\n",
       "    }\n",
       "\n",
       "    .dataframe tbody tr th {\n",
       "        vertical-align: top;\n",
       "    }\n",
       "\n",
       "    .dataframe thead th {\n",
       "        text-align: right;\n",
       "    }\n",
       "</style>\n",
       "<table border=\"1\" class=\"dataframe\">\n",
       "  <thead>\n",
       "    <tr style=\"text-align: right;\">\n",
       "      <th></th>\n",
       "      <th>review</th>\n",
       "      <th>sentiment</th>\n",
       "    </tr>\n",
       "  </thead>\n",
       "  <tbody>\n",
       "    <tr>\n",
       "      <th>0</th>\n",
       "      <td>[one, review, ha, mention, watch, 1, Oz, episo...</td>\n",
       "      <td>1</td>\n",
       "    </tr>\n",
       "    <tr>\n",
       "      <th>1</th>\n",
       "      <td>[A, wonder, littl, product, film, techniqu, ve...</td>\n",
       "      <td>1</td>\n",
       "    </tr>\n",
       "    <tr>\n",
       "      <th>2</th>\n",
       "      <td>[I, thought, thi, wa, wonder, way, spend, time...</td>\n",
       "      <td>1</td>\n",
       "    </tr>\n",
       "    <tr>\n",
       "      <th>3</th>\n",
       "      <td>[basic, famili, littl, boy, jake, think, zombi...</td>\n",
       "      <td>0</td>\n",
       "    </tr>\n",
       "    <tr>\n",
       "      <th>4</th>\n",
       "      <td>[petter, mattei, love, time, money, visual, st...</td>\n",
       "      <td>1</td>\n",
       "    </tr>\n",
       "  </tbody>\n",
       "</table>\n",
       "</div>"
      ],
      "text/plain": [
       "                                              review  sentiment\n",
       "0  [one, review, ha, mention, watch, 1, Oz, episo...          1\n",
       "1  [A, wonder, littl, product, film, techniqu, ve...          1\n",
       "2  [I, thought, thi, wa, wonder, way, spend, time...          1\n",
       "3  [basic, famili, littl, boy, jake, think, zombi...          0\n",
       "4  [petter, mattei, love, time, money, visual, st...          1"
      ]
     },
     "execution_count": 26,
     "metadata": {},
     "output_type": "execute_result"
    }
   ],
   "source": [
    "imdb.head()"
   ]
  },
  {
   "cell_type": "code",
   "execution_count": 33,
   "metadata": {
    "tags": []
   },
   "outputs": [
    {
     "name": "stdout",
     "output_type": "stream",
     "text": [
      "FastText(vocab=19, size=100, alpha=0.025)\n"
     ]
    }
   ],
   "source": [
    "from gensim.models.fasttext import FastText\n",
    "# Set values for various parameters\n",
    "feature_size = 100    # Word vector dimensionality  \n",
    "window_context = 50          # Context window size                                                                                    \n",
    "min_word_count = 5   # Minimum word count                        \n",
    "sample = 1e-3   # Downsample setting for frequent words\n",
    "fastxt = FastText(sentences=imdb.review[:10], size=feature_size, window=window_context, \n",
    "                    min_count=min_word_count,sample=sample, sg=1, iter=3)\n",
    "print(fastxt)"
   ]
  },
  {
   "cell_type": "code",
   "execution_count": 36,
   "metadata": {},
   "outputs": [
    {
     "name": "stdout",
     "output_type": "stream",
     "text": [
      "{'one': array([ 2.6448050e-03,  1.2897195e-03,  5.6180642e-03,  8.8725926e-04,\n",
      "        6.3690601e-04, -3.4449915e-03,  3.3876819e-03,  1.5722672e-03,\n",
      "        6.5678498e-04,  2.0875728e-03,  9.0792257e-04,  5.1315926e-04,\n",
      "       -2.6518889e-03, -1.9770241e-03, -2.7435939e-03, -7.4004626e-04,\n",
      "       -1.1666442e-03,  9.0239635e-05, -1.0608705e-03, -3.7577024e-03,\n",
      "       -4.3270499e-03, -4.0315306e-03, -7.1443740e-04,  1.2776067e-03,\n",
      "       -4.2437669e-04,  2.8599240e-03,  4.8100468e-04,  8.8977680e-04,\n",
      "       -1.7810602e-03,  2.4017394e-03,  8.4219204e-04,  1.1111604e-03,\n",
      "        1.6731620e-03, -5.7290855e-04, -1.1342786e-03, -1.8413349e-03,\n",
      "       -1.2522306e-03,  1.9372267e-03,  4.4152028e-05,  2.6484160e-04,\n",
      "       -4.0281590e-04, -3.8398203e-04, -2.2153058e-03, -6.8107626e-04,\n",
      "       -1.6631689e-03,  1.1873479e-03, -1.9712753e-03, -3.4628727e-03,\n",
      "        6.7258970e-04, -1.0917995e-03, -2.2644312e-03,  1.9864060e-03,\n",
      "        9.0640236e-04,  6.2363655e-03, -3.3978134e-04,  1.1379429e-03,\n",
      "       -6.4232334e-04, -1.8533497e-03,  2.7802421e-03, -1.7509119e-03,\n",
      "        1.6744946e-04,  1.9014768e-03, -1.6093770e-03,  4.3591997e-03,\n",
      "       -9.6437019e-05, -2.6311704e-03,  1.9747112e-03, -1.5345759e-03,\n",
      "       -2.0100127e-03, -8.8438339e-04,  4.4538057e-03, -3.8087380e-03,\n",
      "        2.7069656e-04, -1.0106926e-03,  4.1620941e-03, -2.9972456e-03,\n",
      "       -9.1575272e-04, -2.4970623e-03,  2.3360043e-03,  2.8562844e-03,\n",
      "        2.4967382e-03, -3.3898227e-04,  2.3582666e-03,  2.7687431e-03,\n",
      "       -2.5509561e-03,  2.4739972e-03, -1.2871412e-03,  4.9003493e-04,\n",
      "       -1.2700431e-03,  4.3102987e-03, -3.9511401e-04,  2.4579451e-03,\n",
      "        2.8520683e-04,  9.6600089e-04, -1.0105447e-03, -3.2883168e-03,\n",
      "        4.8144479e-04, -4.3330514e-03,  2.0361438e-03, -2.3702090e-04],\n",
      "      dtype=float32), 'ha': array([-2.89873779e-03,  3.63728823e-03,  2.81630037e-03,  7.73351174e-04,\n",
      "        2.47534178e-03, -2.37102876e-03,  3.52909928e-03, -3.20515712e-04,\n",
      "        3.64575302e-03,  2.10489263e-04, -2.81998655e-03,  3.41398409e-03,\n",
      "        1.09554944e-03, -9.67235654e-04,  3.34082427e-03,  4.92733554e-04,\n",
      "       -1.46796484e-03, -3.78958276e-03,  4.78544645e-03, -2.07896996e-03,\n",
      "       -2.86469935e-04, -2.22347863e-03,  1.94230210e-03, -1.49486307e-03,\n",
      "        1.20484910e-03,  6.25947211e-03, -3.82660399e-03,  7.82204850e-04,\n",
      "        1.08463655e-03, -2.49309931e-03, -3.38112353e-04,  3.80995241e-03,\n",
      "        1.61933026e-03,  1.51449104e-03, -2.77249352e-03, -3.21848108e-03,\n",
      "       -2.28517270e-03, -3.69468471e-04,  4.07128688e-03,  2.10774085e-03,\n",
      "        7.22223194e-05,  3.55408341e-03, -2.76332721e-03, -3.73998191e-04,\n",
      "        3.34664481e-03,  3.84690706e-03, -3.26502579e-03, -2.46462156e-03,\n",
      "        7.77579728e-04, -6.02822751e-04,  4.68473323e-03,  2.90108146e-03,\n",
      "        3.39124934e-04,  1.06607738e-03,  4.21716645e-03, -8.28881981e-04,\n",
      "        2.96165049e-03,  3.82312480e-03,  1.34430139e-03, -1.96293974e-03,\n",
      "       -6.01134787e-04, -1.37565704e-03,  3.62087414e-03,  1.96932675e-03,\n",
      "        1.05220266e-03, -2.39805924e-03,  5.00427512e-03,  2.67067226e-03,\n",
      "       -1.69828185e-03,  2.87676556e-03,  3.44588887e-03,  2.09482969e-04,\n",
      "       -5.02354465e-03,  1.03261336e-04, -2.06039241e-03, -6.12464268e-04,\n",
      "       -2.38342071e-03,  3.53547395e-04,  2.12813873e-04,  1.09780277e-03,\n",
      "       -2.79563479e-04,  9.87100648e-05, -7.25675782e-04, -2.64379825e-03,\n",
      "        2.10444489e-03,  1.40281965e-03,  1.39194366e-04,  2.01718626e-03,\n",
      "        2.09680013e-03, -1.35920593e-04, -2.82555819e-04,  2.37002410e-03,\n",
      "        4.01051599e-04, -6.68341643e-04, -7.78444810e-05, -1.26602896e-03,\n",
      "        5.16714342e-03, -5.58754709e-03, -8.54177400e-04,  1.72643026e-03],\n",
      "      dtype=float32), 'watch': array([ 1.2483750e-03, -3.3411445e-05,  1.3386436e-03,  3.8321820e-04,\n",
      "       -7.5529318e-04,  6.8523188e-04,  6.3177816e-07,  2.2311571e-05,\n",
      "       -1.9416562e-03, -1.8828722e-03,  1.1890850e-03,  9.6951815e-04,\n",
      "        9.7932969e-04,  3.0513296e-03, -1.4195696e-03, -1.0849979e-03,\n",
      "       -3.3389698e-03, -1.3901589e-03, -1.9613495e-03,  1.7465656e-03,\n",
      "        9.0982317e-04,  3.2450230e-04,  5.7000719e-04,  1.3500323e-03,\n",
      "       -3.2368180e-04, -1.8005547e-03,  8.2642172e-04,  2.0649696e-03,\n",
      "        9.4395602e-04,  1.1461442e-04, -1.1564739e-03,  1.1310000e-03,\n",
      "       -2.9633471e-04,  3.1162014e-03,  8.4850935e-06, -1.6484290e-03,\n",
      "        1.0945358e-03, -3.2016241e-03,  1.2018118e-03, -1.0289176e-03,\n",
      "        5.1223417e-04,  9.0163492e-04, -4.7556878e-04,  2.2233154e-03,\n",
      "       -2.6558261e-04, -9.0531673e-04, -1.2476085e-03,  6.4914551e-04,\n",
      "        1.6870839e-03, -1.8204738e-03,  8.2997297e-04, -8.4520847e-04,\n",
      "        2.3863548e-03,  1.1415357e-03,  1.0615077e-03, -6.7963527e-04,\n",
      "        3.6012966e-04, -3.8495355e-03, -8.2327047e-04, -3.7694117e-03,\n",
      "        8.7561799e-05,  1.5244894e-03, -1.1618416e-03,  2.4704638e-04,\n",
      "        3.3817664e-04, -1.9667739e-04, -1.3268529e-03, -4.3304189e-04,\n",
      "       -2.7616124e-04, -1.3846165e-03,  3.1074483e-03, -3.9187539e-04,\n",
      "        4.5339653e-04,  4.1758195e-03,  2.2352957e-03, -1.5467296e-03,\n",
      "       -1.2234543e-03, -7.5876992e-04, -1.0024698e-03,  3.1041596e-04,\n",
      "        1.4750961e-03,  6.5936294e-04,  1.5472385e-04,  9.0477365e-04,\n",
      "        9.0723380e-04, -1.1510086e-03,  3.9521320e-04,  5.1882036e-04,\n",
      "       -3.7813440e-04, -8.7916508e-04,  2.8753498e-06, -2.6716304e-04,\n",
      "        8.4728072e-04, -1.4798653e-03,  1.3764139e-03,  1.0606481e-03,\n",
      "       -6.5641844e-04,  6.7474844e-04,  7.3371426e-04, -1.1936498e-03],\n",
      "      dtype=float32), 'thi': array([-5.82277309e-04, -2.61267502e-04, -4.05096711e-04, -1.79360912e-03,\n",
      "        2.22908542e-03, -2.10822356e-04, -3.93730734e-04,  4.18185111e-04,\n",
      "        1.80913135e-03, -6.42254076e-04,  1.09345862e-03, -9.02452797e-04,\n",
      "        1.10194153e-04,  3.84791312e-03,  2.06750148e-04,  3.32319323e-04,\n",
      "       -2.84148613e-03, -2.75785639e-03, -3.14197876e-03,  1.05705876e-04,\n",
      "        3.55284545e-03,  3.47461551e-03, -3.79871903e-03, -9.91482870e-04,\n",
      "        1.11897755e-03, -1.34847331e-04, -2.70973402e-03,  1.86792493e-03,\n",
      "        5.00389084e-04,  1.64212531e-03,  5.56603365e-04,  9.33089876e-04,\n",
      "        1.36970542e-03, -5.90375450e-04,  3.26547830e-04, -8.64752161e-04,\n",
      "       -4.05331468e-03, -1.09567505e-03, -7.14849157e-04,  3.07138381e-03,\n",
      "        4.32413211e-03,  3.37200263e-03,  1.26601255e-03,  2.19630403e-03,\n",
      "        4.36135422e-04,  7.46909878e-04,  2.61223386e-03, -8.00351030e-04,\n",
      "        1.39472517e-03, -3.79461749e-03,  2.02415930e-03,  6.65619853e-04,\n",
      "       -2.53862562e-03, -1.30894489e-03, -1.71872438e-03, -1.25281059e-03,\n",
      "       -3.13783858e-05, -2.95519107e-03,  1.04700346e-04,  1.76064274e-03,\n",
      "        8.15301260e-04,  1.67890883e-03,  4.70130937e-04, -9.30860813e-04,\n",
      "       -1.70822442e-03, -3.22469510e-03,  1.89586008e-05, -1.63833110e-03,\n",
      "        1.22821541e-03,  4.15635941e-06,  4.59281087e-04, -9.51443333e-04,\n",
      "       -2.65000178e-03,  6.58392499e-04, -5.06570702e-03, -2.89663818e-04,\n",
      "        1.26701291e-03, -3.65057844e-03, -1.69139274e-03,  5.51241776e-03,\n",
      "       -1.24089210e-03, -1.93823059e-03,  1.46107620e-03,  3.04822600e-03,\n",
      "        6.03045992e-05,  3.42399511e-03,  1.32285277e-04, -1.66260012e-04,\n",
      "       -4.48683184e-03, -6.68021094e-04, -1.57650968e-03,  3.66635574e-03,\n",
      "        2.51333951e-03, -1.03724143e-03, -1.44579052e-03, -1.02648395e-03,\n",
      "       -2.02030549e-03,  7.10788241e-04, -2.21196329e-03,  2.19716155e-03],\n",
      "      dtype=float32), 'first': array([-3.20001924e-03,  2.89075100e-03,  6.29892573e-04, -2.86758761e-04,\n",
      "        1.25539175e-03, -2.02509901e-03, -1.08430613e-04, -1.87994482e-03,\n",
      "       -3.23974178e-03, -1.43838557e-03,  3.87150183e-04,  1.35554792e-03,\n",
      "       -6.13841461e-04, -2.25420576e-04,  1.50522927e-03,  2.66949483e-03,\n",
      "       -2.66890554e-03, -1.16597046e-03, -1.54127728e-03, -4.62407916e-04,\n",
      "        1.76228804e-03,  4.24313266e-03, -5.21782087e-04,  1.83719629e-03,\n",
      "       -1.00737310e-03, -1.56489748e-03, -4.62487631e-04, -9.50839778e-04,\n",
      "       -2.01246189e-03,  2.37008720e-03,  1.12130865e-03,  5.25502837e-04,\n",
      "       -1.82863278e-03, -9.76596028e-04, -1.38871561e-04,  5.87732124e-04,\n",
      "        1.47048198e-03, -5.68968593e-04, -4.81298193e-04,  4.97071538e-04,\n",
      "        1.65512448e-03,  1.60144020e-06, -3.20449611e-03,  7.66398371e-05,\n",
      "        1.01252377e-03,  5.12802042e-04,  2.78032152e-03,  1.33593290e-04,\n",
      "        1.10767980e-03,  1.19093433e-03,  4.69615508e-04,  9.63216124e-04,\n",
      "       -1.04072999e-04,  1.12944783e-03,  8.10498255e-04, -1.26964785e-03,\n",
      "        7.75963301e-04, -1.37216796e-03,  1.16215122e-03,  1.08568475e-03,\n",
      "        1.92357809e-03, -1.95492851e-03,  7.88351172e-04,  1.22629991e-03,\n",
      "        8.05552525e-04,  2.84662517e-03, -2.11822730e-03,  1.12240948e-03,\n",
      "        1.48735533e-03, -8.21962371e-04, -1.28626882e-04, -2.24943928e-04,\n",
      "       -3.13000707e-03,  2.46341061e-03,  2.72138068e-03,  2.81710061e-04,\n",
      "       -4.62728844e-04, -7.69783917e-04,  6.18826525e-05,  9.36434022e-04,\n",
      "        2.62131536e-04, -1.01108348e-03, -1.80865848e-03, -3.01403133e-03,\n",
      "       -1.25484832e-03,  1.86945533e-03,  1.76610236e-04,  2.10933358e-04,\n",
      "       -7.46098172e-04, -4.76812507e-04, -1.11242302e-03,  2.35313596e-03,\n",
      "       -2.62542075e-04,  2.40385253e-03,  8.58730345e-04, -2.45689967e-04,\n",
      "        1.02892914e-03,  2.02903827e-03, -4.65898454e-04, -1.13218746e-04],\n",
      "      dtype=float32), 'thing': array([ 8.33748491e-04, -1.20579498e-03, -1.06171115e-04, -4.33990237e-04,\n",
      "       -2.39639333e-03,  6.67668530e-04,  2.06909608e-03, -4.36922186e-04,\n",
      "       -7.91966682e-04,  1.10021385e-03,  1.02211267e-03,  1.17704400e-03,\n",
      "        1.52179576e-03, -1.30026613e-03, -9.38041019e-04, -1.36954524e-03,\n",
      "        1.34128044e-04, -8.73808574e-04, -3.35569988e-04,  8.76105158e-04,\n",
      "        3.69029213e-03,  3.47807625e-04, -1.61530811e-03,  1.01586443e-03,\n",
      "       -1.52707871e-04, -3.61383171e-03,  4.62822529e-04,  1.44916645e-04,\n",
      "        1.29562232e-03,  3.70752503e-04, -3.17413220e-03,  1.82897993e-03,\n",
      "        2.34151655e-03, -1.08257181e-03,  1.51807175e-03,  1.77776848e-03,\n",
      "       -2.50022509e-04, -2.30321870e-03,  1.49443233e-03,  8.92424956e-04,\n",
      "        2.73245946e-03,  1.85208651e-03,  1.20265504e-04,  8.91336531e-04,\n",
      "       -1.01566012e-03, -3.03497515e-03,  6.77704462e-04,  1.38615468e-03,\n",
      "        1.37408671e-03, -3.57003137e-03,  1.04307226e-04,  1.15335011e-03,\n",
      "        1.68721378e-03,  2.23253504e-03, -1.29245326e-03, -5.69869590e-04,\n",
      "        6.98271906e-04, -4.14630678e-03, -2.58809119e-03,  7.44786928e-04,\n",
      "       -6.33349002e-04,  2.02199910e-03, -2.45209015e-03, -1.22559104e-05,\n",
      "        1.79175229e-03,  2.04935274e-03, -3.01179872e-03, -8.11036502e-04,\n",
      "       -3.35651624e-04,  3.43775260e-04, -1.77207170e-03, -2.22922699e-03,\n",
      "       -2.03546765e-03,  3.44573637e-04,  1.93165254e-03,  5.41893882e-04,\n",
      "        1.66038435e-03, -6.61295431e-04, -3.50416871e-03,  1.04780214e-04,\n",
      "        1.01180005e-04,  2.13823142e-03,  2.12841318e-03, -5.41093876e-04,\n",
      "        6.78473094e-04,  1.78041530e-03,  1.71385088e-03, -4.47023718e-04,\n",
      "       -2.02291587e-04,  3.54391552e-04, -3.66833317e-03,  8.56241822e-05,\n",
      "       -3.03792651e-04,  1.40028645e-03, -9.90578672e-04,  1.11043081e-03,\n",
      "       -1.78246573e-03,  9.41001694e-04,  2.06083711e-03, -1.71133829e-03],\n",
      "      dtype=float32), 'wa': array([ 6.3007441e-03,  2.9002782e-03,  8.8314398e-04,  4.0210788e-03,\n",
      "       -1.8710822e-03,  4.0572700e-03,  9.1754383e-04, -6.9858995e-04,\n",
      "       -5.7785287e-03,  6.3760276e-04,  8.6887143e-05, -7.7142048e-04,\n",
      "        6.4077426e-04,  1.9886747e-03,  1.7293202e-03,  9.1397151e-04,\n",
      "        2.8848625e-03,  1.2066957e-03,  3.2961711e-03,  1.9107303e-03,\n",
      "        1.4931761e-03, -5.3065829e-04, -7.0532039e-04, -1.4398160e-03,\n",
      "       -2.0853300e-03, -4.4314293e-03, -1.9110164e-03,  2.8437376e-03,\n",
      "       -1.8582713e-03, -4.0042205e-03, -4.9224193e-03, -6.4384541e-05,\n",
      "        1.2799974e-03,  1.4645435e-03,  1.8263148e-03, -3.2005445e-03,\n",
      "        2.8126291e-04,  5.1315757e-04, -5.8234087e-04, -2.2081055e-03,\n",
      "       -4.1134241e-03, -1.7796651e-03,  4.4764569e-03,  3.7816353e-04,\n",
      "       -1.3971233e-04,  8.5199997e-03,  1.7844450e-03,  3.1542396e-03,\n",
      "        2.8523055e-03, -3.2889189e-03, -3.3443447e-04,  2.6723086e-03,\n",
      "        1.8987391e-04, -2.2407155e-05, -9.0802356e-04, -1.7632160e-03,\n",
      "        4.0422063e-03, -3.8189129e-03, -2.3009905e-03, -2.3040926e-04,\n",
      "       -2.2324808e-03,  3.3687190e-03, -1.9232089e-03, -3.9031114e-03,\n",
      "        3.5287833e-03,  1.2801336e-03,  2.8912388e-03, -3.8869102e-03,\n",
      "       -2.8719599e-03, -1.5592151e-03,  2.0291791e-03, -3.8897262e-03,\n",
      "        8.0978067e-04,  1.2163002e-03,  3.4915302e-03, -1.0501964e-03,\n",
      "       -3.2442540e-03,  6.9884094e-04, -1.5374100e-03,  3.4861721e-03,\n",
      "       -2.1643545e-03, -2.3113498e-03,  9.5262658e-04,  4.6536457e-03,\n",
      "        4.0220749e-03,  1.3503965e-04, -2.1980715e-03, -4.5424337e-03,\n",
      "        2.8858567e-04, -1.4077236e-03, -1.9890517e-03,  2.4830303e-03,\n",
      "       -5.3665875e-03,  1.2860922e-03, -3.8439315e-03,  3.1892974e-03,\n",
      "        2.7645184e-03,  1.3893326e-03,  1.9158542e-03,  1.8678440e-03],\n",
      "      dtype=float32), 'show': array([ 9.6249988e-04, -3.9218520e-03,  1.9677244e-03, -3.6309625e-03,\n",
      "       -1.2118464e-03,  3.4308265e-04,  3.7748928e-04, -1.6451352e-03,\n",
      "        8.6182117e-04,  3.4015483e-04, -1.6127449e-03, -4.3157674e-04,\n",
      "       -2.4955599e-03, -1.0243588e-03,  3.0943772e-03, -2.0546846e-03,\n",
      "        7.3456293e-04,  1.7236398e-03, -2.7003249e-03, -2.0671956e-04,\n",
      "       -3.7845902e-03, -7.7738916e-04,  1.9894426e-03,  2.0649589e-03,\n",
      "       -7.5243379e-04, -1.2359456e-03,  1.7087378e-03,  2.8779483e-03,\n",
      "        1.5776858e-03,  5.5013901e-05,  2.7397519e-03, -7.3622614e-05,\n",
      "       -5.1116495e-04,  1.8316626e-03,  3.3062419e-03,  4.0819298e-04,\n",
      "        1.8271501e-03, -2.8078260e-03,  7.2544930e-04,  1.8296231e-03,\n",
      "       -5.3931825e-04, -8.1028289e-04, -1.4515211e-03, -4.0321440e-05,\n",
      "        1.8468047e-03, -4.7134820e-04,  6.8707025e-04, -1.6407832e-03,\n",
      "        8.8595465e-04, -2.0535653e-03,  1.0705088e-03, -2.5059741e-03,\n",
      "       -2.1196217e-03,  3.1536978e-04, -3.7542975e-04, -2.7364055e-03,\n",
      "        5.1352504e-04, -6.1291835e-04,  4.3526222e-03, -7.8517123e-04,\n",
      "        2.3110691e-04,  3.8471646e-03,  1.8407185e-04, -1.7900015e-03,\n",
      "        2.5334526e-04,  1.6332340e-03, -3.8695140e-04,  2.6324876e-03,\n",
      "        1.8151115e-03,  7.1155367e-04,  9.4411185e-04, -6.0971372e-04,\n",
      "       -3.7533257e-04, -3.3911681e-03,  1.1682763e-03,  8.2522887e-04,\n",
      "       -1.6789617e-04,  1.2291904e-03, -5.6783581e-04,  8.6462701e-04,\n",
      "       -2.2305420e-03,  4.6986929e-04,  8.5788104e-04, -1.1251461e-03,\n",
      "        4.7067315e-03, -1.4535208e-04,  2.8185218e-03, -1.8824189e-03,\n",
      "        1.5648476e-04,  1.4041791e-03, -1.1669283e-03, -1.9824030e-03,\n",
      "        2.2759587e-03,  4.4098403e-04, -1.7154769e-03, -7.3521485e-05,\n",
      "        1.8276871e-03,  3.3682081e-04, -1.9700552e-04,  1.0517079e-03],\n",
      "      dtype=float32), 'would': array([ 1.5142347e-03, -5.5603427e-04,  1.2617371e-04, -1.0099441e-03,\n",
      "        1.6670980e-03,  3.6946716e-04,  4.2429051e-04,  9.3754224e-04,\n",
      "        1.1907278e-03,  1.0576226e-03, -6.4689812e-04,  1.0592262e-03,\n",
      "        9.7415654e-04, -6.1677879e-04, -2.9135491e-03, -1.7104446e-03,\n",
      "       -3.8558687e-03,  1.1719145e-03,  2.1663727e-03,  7.0293044e-04,\n",
      "       -1.1028453e-03, -7.8481721e-04,  1.2721393e-03, -2.0170354e-03,\n",
      "        1.7256556e-03, -6.0325017e-04, -6.9227355e-04,  1.3294209e-03,\n",
      "       -1.8287227e-03,  1.0317544e-03, -1.1446720e-03,  8.5283379e-04,\n",
      "        1.4322941e-04,  6.0503458e-04, -2.9079844e-03,  9.0212317e-04,\n",
      "        7.9201761e-04, -5.7221239e-04,  2.5970677e-03, -2.1111291e-04,\n",
      "       -1.4542533e-03, -2.1754915e-03,  2.3288857e-04,  1.3925731e-03,\n",
      "        7.5626228e-04,  5.4701540e-04,  2.1451111e-03, -8.3096162e-04,\n",
      "        9.0944092e-04, -2.2500088e-04,  3.1575354e-04,  2.0936206e-03,\n",
      "        1.3579534e-03,  2.4869872e-04,  1.6444194e-03, -2.0948620e-04,\n",
      "        8.7082262e-05,  1.3096133e-03, -8.6315320e-04, -3.0971782e-03,\n",
      "       -1.4639799e-03,  2.3089191e-04,  2.5277531e-03,  1.2700224e-03,\n",
      "       -4.2279626e-04,  2.4113063e-04,  1.5085374e-04, -9.4890868e-04,\n",
      "        1.5692243e-04, -1.9270072e-03, -4.5712729e-04, -1.6240907e-03,\n",
      "       -1.0281395e-03,  3.7848859e-04, -9.6301473e-04, -7.7578402e-04,\n",
      "        5.5304519e-04, -7.0942676e-04, -2.5625050e-03,  2.7646562e-03,\n",
      "        2.0086732e-04,  3.6148500e-04, -7.6220144e-04, -1.8869892e-03,\n",
      "        4.1917915e-04, -2.9052289e-03,  2.3195457e-03,  1.3316572e-03,\n",
      "        9.6071378e-04,  2.6837548e-03,  1.3719675e-03,  1.1711126e-03,\n",
      "        1.1395498e-03,  9.0545969e-04,  6.8622542e-04,  6.2244933e-04,\n",
      "       -8.0334285e-04,  4.9885473e-04,  5.0410972e-04,  1.6412416e-03],\n",
      "      dtype=float32), 'I': array([-3.9841272e-03, -7.7689043e-04,  7.5829006e-03, -4.7725770e-03,\n",
      "        8.9532398e-03, -5.6274643e-04, -2.4119983e-03,  7.2534028e-03,\n",
      "       -2.4807802e-03,  9.3550421e-03,  6.9469586e-04,  8.7500340e-04,\n",
      "       -6.2922854e-04,  2.9794702e-03, -8.6923204e-03,  6.3555758e-04,\n",
      "        6.4744921e-03,  4.3341359e-03,  6.2071271e-03, -5.2766493e-03,\n",
      "       -3.6786324e-03, -7.9822885e-03, -7.4927174e-03,  1.4363183e-04,\n",
      "       -5.9594796e-04,  2.1300442e-03, -3.8806007e-03,  4.6867901e-04,\n",
      "       -2.8111693e-03,  2.4614919e-03, -2.4704831e-03,  7.4852710e-03,\n",
      "        4.6746363e-03, -1.1034685e-03, -1.2292992e-04,  1.5645174e-03,\n",
      "       -1.7287729e-03, -3.8269751e-03,  5.8987010e-03,  4.3844203e-03,\n",
      "        1.9182386e-03, -8.3484510e-03, -8.7833963e-03, -7.6569733e-04,\n",
      "       -7.1946844e-03,  1.1236605e-03, -6.4362581e-03,  2.1098671e-04,\n",
      "       -2.4085722e-03, -3.4937812e-03, -5.9632608e-04,  3.7333840e-03,\n",
      "        1.4067788e-03, -1.4459032e-03,  1.0459905e-03,  4.3765823e-03,\n",
      "       -4.6618823e-03, -3.9260378e-03,  2.3096148e-04,  4.6299915e-03,\n",
      "       -7.1865146e-04,  1.4241814e-03, -4.7136797e-05,  3.4128032e-03,\n",
      "       -1.6035206e-03, -7.2083538e-03,  7.7315606e-04, -3.2043655e-03,\n",
      "        5.8349627e-03,  8.8428485e-04,  5.0822855e-04,  6.3190153e-03,\n",
      "        5.2130604e-03, -2.8434233e-03,  5.0668167e-03,  6.5447465e-03,\n",
      "        4.6273842e-03, -3.7916447e-04, -8.3875209e-03, -1.8667928e-03,\n",
      "        1.3072485e-03, -2.3749261e-03, -3.9936998e-04, -6.5927999e-04,\n",
      "       -1.6205090e-03, -1.2244843e-04, -5.5442424e-04,  8.0976525e-04,\n",
      "       -2.7419832e-03,  7.8055914e-03, -4.3047629e-03, -5.5349870e-03,\n",
      "        7.1234200e-03,  2.5564902e-03,  1.2052553e-03,  6.1517814e-03,\n",
      "       -4.9346248e-03, -3.1709603e-03,  6.1623184e-03,  8.6564310e-03],\n",
      "      dtype=float32), 'well': array([-3.5644338e-05, -2.9572181e-03, -2.7836738e-03, -2.0197507e-05,\n",
      "       -3.4005670e-03,  3.4378702e-03,  8.5978373e-04,  1.5536682e-03,\n",
      "        2.8130881e-04,  1.7206017e-03, -1.1926928e-03, -1.7022555e-03,\n",
      "       -1.5775065e-03, -1.4597269e-03, -2.1045844e-03, -1.1632957e-03,\n",
      "        5.9526908e-04,  4.4411081e-05,  1.4535479e-03, -1.2908601e-03,\n",
      "       -6.3471624e-04, -3.9464296e-03,  3.6481477e-03,  9.0197293e-04,\n",
      "       -8.9538470e-04,  2.4578273e-03,  7.2882307e-04, -1.9601493e-03,\n",
      "       -6.1641814e-04, -1.3325078e-03,  1.1204499e-03, -1.6627132e-03,\n",
      "        3.7240449e-04, -2.2031156e-05, -1.1746624e-03, -2.5838232e-03,\n",
      "       -1.0875507e-03,  1.2974800e-03, -1.6337481e-03, -1.2528673e-03,\n",
      "        1.2567175e-03,  3.4601084e-04, -2.1929613e-03, -5.2454270e-04,\n",
      "       -3.7902381e-04,  2.0868105e-03,  8.3502400e-04,  1.7264831e-03,\n",
      "        4.8005057e-04,  1.8561982e-03,  1.4915273e-03,  2.4551814e-03,\n",
      "        2.7759697e-03,  1.8022419e-03,  4.9384445e-04, -2.8826746e-03,\n",
      "        7.4088533e-04, -2.7380495e-03,  1.7584738e-03, -4.8565166e-04,\n",
      "        1.0267060e-03,  2.5261096e-03, -1.3776745e-03, -2.9314898e-03,\n",
      "        5.5354700e-04, -1.0566486e-03, -2.0270464e-03, -1.8741580e-03,\n",
      "       -1.5087448e-04,  1.9031389e-03,  1.7312034e-03, -3.0017874e-04,\n",
      "        5.5013387e-04, -1.7132446e-03, -1.5563443e-03,  1.2236067e-04,\n",
      "       -1.1733255e-04,  3.8007263e-04, -1.3058750e-04,  8.8725390e-04,\n",
      "       -3.7320753e-04, -1.2310274e-03, -1.7895006e-03,  2.4196662e-03,\n",
      "        1.1623673e-03, -3.5566659e-04,  4.2280573e-03, -2.0753534e-03,\n",
      "       -1.7700954e-04,  1.9477918e-04,  1.6474959e-03,  1.2676555e-03,\n",
      "        1.4060584e-03,  1.0451729e-03, -2.1240565e-03, -5.4275518e-04,\n",
      "        1.0650548e-03, -3.5499178e-03,  3.3164301e-04,  2.0376912e-03],\n",
      "      dtype=float32), 'film': array([-2.6442876e-04,  1.7750874e-03,  9.2364138e-04, -8.7044202e-04,\n",
      "       -6.0313474e-04, -3.4371699e-04, -1.5580296e-03,  3.8736526e-04,\n",
      "        1.5874580e-03, -2.5705509e-03, -5.9510482e-04,  3.1737038e-03,\n",
      "        6.8034884e-04,  1.2753039e-03, -8.0961955e-04, -3.2094521e-03,\n",
      "       -1.4586699e-03,  1.0173031e-03, -3.2059898e-04, -1.3898525e-03,\n",
      "        2.1590843e-04,  4.2901384e-03, -4.6877741e-04,  1.0576146e-04,\n",
      "        2.2687861e-03, -4.4565552e-04,  8.1816746e-04,  2.1732168e-03,\n",
      "       -1.8926339e-03, -2.4434782e-04, -1.6078221e-03,  1.7861282e-03,\n",
      "       -1.8614151e-03,  7.9288246e-04,  7.2197249e-04, -3.5900979e-03,\n",
      "       -2.2799001e-04,  1.0164242e-03, -1.1515851e-03,  5.6327659e-05,\n",
      "       -1.5947656e-03, -6.9434912e-04,  2.6693998e-03,  1.5419245e-03,\n",
      "       -3.6895454e-03, -2.1004940e-03, -5.1592157e-04, -1.7637712e-03,\n",
      "        1.6102314e-03, -1.2562419e-03, -1.0175756e-03, -1.1719725e-03,\n",
      "        1.0066713e-03, -5.0983817e-04,  3.0955225e-03, -9.6170622e-04,\n",
      "       -2.6778204e-04, -1.2805889e-03,  1.0785154e-03, -1.2383042e-04,\n",
      "       -1.2180976e-03, -8.6079200e-04,  1.5484188e-03, -6.6436362e-05,\n",
      "       -2.7488999e-03,  1.0279006e-03,  3.8244107e-03, -1.0853083e-05,\n",
      "        2.7166309e-03,  1.3901066e-03, -5.9379055e-04,  1.2661210e-03,\n",
      "        1.9259531e-03,  3.1735329e-03, -1.0924214e-03, -4.0327609e-04,\n",
      "       -1.3796999e-03, -1.6747889e-03,  1.8682302e-03,  1.9544733e-03,\n",
      "        5.0726678e-04, -2.0484580e-03, -1.8243394e-03, -2.1286872e-03,\n",
      "       -2.8652467e-03,  2.1848159e-03, -8.5404428e-04,  2.2310351e-03,\n",
      "        5.2703341e-04,  5.6806911e-04, -1.2592570e-03,  2.0804741e-04,\n",
      "        3.1293072e-03, -2.4814396e-03,  2.9962871e-04, -5.4193765e-04,\n",
      "       -8.1160781e-04,  1.1390429e-03, -4.8163289e-04,  2.1659262e-03],\n",
      "      dtype=float32), 'onli': array([ 2.7824883e-04, -5.4862793e-04, -3.7646742e-04,  2.0968791e-03,\n",
      "       -1.2472854e-03,  2.9093043e-03, -2.3595535e-03,  5.3138635e-04,\n",
      "       -2.6680585e-03, -5.1544362e-04, -5.8163353e-04, -3.0691291e-03,\n",
      "        1.1646773e-04, -2.9241473e-03, -4.4912469e-04,  4.9928430e-04,\n",
      "       -1.0517300e-03,  1.8043951e-05,  3.7717908e-03,  2.7528570e-03,\n",
      "       -4.7040900e-04, -1.1158363e-03,  2.7593574e-03, -1.9137933e-03,\n",
      "       -1.3519624e-04,  2.8205742e-03, -1.2353610e-03, -9.9099195e-04,\n",
      "        2.2298461e-03,  3.0369915e-03, -1.5055287e-03,  3.6049346e-03,\n",
      "       -1.3822421e-03, -8.4602297e-04,  2.5377490e-03, -4.4754936e-04,\n",
      "       -6.2065717e-04, -2.2840246e-03, -9.6610392e-04, -3.1975927e-03,\n",
      "       -3.3502160e-03, -1.9326917e-03,  2.8430705e-03, -1.6121637e-03,\n",
      "       -2.5808737e-03,  2.8953192e-04, -1.1256937e-03, -1.2266599e-03,\n",
      "        1.0826968e-03, -2.3020310e-03,  1.1219055e-03,  5.0271628e-03,\n",
      "       -3.3770755e-04, -1.2553009e-03, -3.1117857e-03,  5.1043718e-04,\n",
      "        2.4147930e-03,  1.2880022e-03, -5.3046865e-04,  3.4263798e-03,\n",
      "       -7.8986178e-04, -1.5803135e-03,  1.9903261e-04,  7.1558281e-04,\n",
      "        1.6264669e-03,  6.9157709e-04,  1.5306748e-03, -2.6295821e-03,\n",
      "        5.6597980e-04,  3.3489526e-03, -2.8327836e-03,  1.0264572e-03,\n",
      "       -3.8143946e-04, -8.2286564e-04, -1.1014909e-03,  9.7612967e-04,\n",
      "        1.0832419e-03, -1.9617444e-03,  1.6290075e-03, -4.8301506e-04,\n",
      "        1.9488975e-03, -7.8293477e-04,  1.3404593e-03, -2.3122609e-03,\n",
      "        2.7407312e-03,  3.8477806e-03,  2.9359132e-03, -1.2674826e-03,\n",
      "       -3.7325892e-04,  4.4724513e-03, -6.4484944e-04,  2.4078561e-03,\n",
      "        1.6360796e-03,  1.9298058e-03, -2.3675843e-03, -3.4279143e-03,\n",
      "        3.5846471e-03, -1.6476664e-03, -6.9580652e-05, -1.1987559e-03],\n",
      "      dtype=float32), 'see': array([ 0.00062956,  0.00304839,  0.00154725,  0.00071882, -0.00049084,\n",
      "       -0.0051105 , -0.00139582, -0.00111152,  0.00283288,  0.00166088,\n",
      "       -0.00185986, -0.00561042,  0.0015826 ,  0.00135939,  0.00160541,\n",
      "        0.00137339, -0.00145286,  0.00186538,  0.00034183, -0.00103051,\n",
      "        0.00051719, -0.00148903,  0.00098587,  0.00038606, -0.0011953 ,\n",
      "        0.00075739,  0.00217395,  0.00148515, -0.00241454, -0.00299805,\n",
      "       -0.00255267,  0.00116863, -0.00256397,  0.00116185, -0.0002698 ,\n",
      "        0.00529625, -0.0008192 , -0.00065463, -0.00233666, -0.00078936,\n",
      "       -0.00127061, -0.00050383,  0.00198731,  0.00364352, -0.00109893,\n",
      "        0.00451272,  0.00193828,  0.00253186,  0.00014252, -0.00441839,\n",
      "       -0.00163762, -0.00116218,  0.00262133, -0.0032279 , -0.00503342,\n",
      "       -0.00288337,  0.00056215,  0.00172178, -0.00315087, -0.00014776,\n",
      "        0.00019555, -0.0010687 , -0.00151958,  0.00123214,  0.00167144,\n",
      "        0.00086706,  0.00158962,  0.00236433,  0.00588845,  0.0015223 ,\n",
      "        0.00093459,  0.0023355 , -0.00214879,  0.00031553, -0.00153528,\n",
      "        0.00175231,  0.00265276, -0.00104592, -0.00256747,  0.00073862,\n",
      "       -0.00015144,  0.00076638,  0.00328268, -0.0016229 , -0.0013877 ,\n",
      "        0.00217138, -0.0004644 ,  0.00197143,  0.00020124,  0.00302577,\n",
      "        0.00392086, -0.00183364, -0.00431124,  0.00178775, -0.00144537,\n",
      "        0.00370109, -0.00089993,  0.00216186, -0.00093301,  0.00221291],\n",
      "      dtype=float32), 'hi': array([-4.5659118e-03, -7.8262540e-04,  4.1713226e-03, -8.5912796e-04,\n",
      "        2.3540938e-03, -4.0317285e-03, -3.2048759e-03, -3.2294434e-03,\n",
      "       -1.6905182e-03,  5.6085270e-03, -1.3958830e-03, -1.3969331e-03,\n",
      "        4.1382019e-03,  2.7972236e-03, -2.7186947e-03, -1.6509891e-03,\n",
      "       -1.6562819e-03, -4.0341578e-03, -2.6645255e-03,  1.6500338e-03,\n",
      "       -1.3194829e-03, -1.1647460e-03,  9.3188125e-04,  2.6710727e-03,\n",
      "       -1.1718260e-03, -2.5396643e-03, -3.5771611e-03, -2.8833696e-03,\n",
      "        5.7163239e-03,  2.3259094e-03, -3.3588440e-03, -3.4101622e-04,\n",
      "       -1.1347739e-03,  1.1899458e-03, -1.4148721e-03, -1.9503019e-03,\n",
      "       -8.3806599e-04, -4.8337807e-03,  3.9653364e-03, -1.3605634e-03,\n",
      "       -1.1988005e-03,  5.0903582e-03,  5.1916193e-04,  4.9824989e-03,\n",
      "        4.5552971e-03,  3.3514602e-03,  5.4798424e-03, -2.9514972e-03,\n",
      "        3.1860112e-03,  2.3045242e-03,  2.7883579e-03,  2.6154718e-03,\n",
      "        2.9653772e-03, -2.0655964e-03,  2.0669713e-03, -1.1862294e-03,\n",
      "       -3.2880469e-03, -5.3104507e-03,  5.9545157e-04, -8.1569259e-04,\n",
      "        4.6027997e-03, -1.1543658e-03, -2.0633875e-03,  3.5105329e-03,\n",
      "        1.1157310e-03,  2.4584790e-03, -5.2819960e-05,  1.0694928e-03,\n",
      "        2.6774905e-03, -2.4569908e-03, -1.7190301e-03,  1.4595354e-03,\n",
      "       -1.9498069e-03,  2.5766017e-04,  7.9445250e-04, -9.3129190e-04,\n",
      "       -5.2390862e-03, -1.1312359e-03,  1.0279018e-03,  8.3515514e-04,\n",
      "       -1.6358058e-03,  5.7702209e-04,  4.8705093e-03, -8.5563236e-04,\n",
      "        3.1206217e-03,  8.9898682e-04, -1.7672839e-03, -2.1762010e-03,\n",
      "       -6.2207999e-03, -1.5501474e-03,  2.5667925e-04,  3.0742586e-03,\n",
      "        3.0818805e-03,  3.5477993e-03, -6.6382415e-04,  4.2255754e-03,\n",
      "       -1.8932670e-03,  6.3810346e-04, -1.0142453e-03,  1.9570724e-03],\n",
      "      dtype=float32), 'way': array([ 2.1605648e-03,  3.0829099e-03, -5.3633720e-04,  2.5442967e-03,\n",
      "       -1.3609555e-03,  3.7742699e-03, -2.4888881e-03,  2.4105553e-03,\n",
      "       -3.5132237e-03, -3.8279868e-03,  1.7584428e-04,  4.6434999e-03,\n",
      "       -1.4579404e-03, -7.6958194e-04, -2.2792986e-03, -8.0263254e-04,\n",
      "       -2.4368544e-03,  4.6028276e-03,  2.2427887e-03,  4.2151022e-03,\n",
      "       -6.4884342e-04, -3.1906238e-03,  2.0895924e-03, -1.6842929e-04,\n",
      "        2.0011100e-03, -2.0560881e-03, -3.6275346e-04,  1.3772957e-03,\n",
      "       -2.3290387e-03, -3.1583605e-03,  1.1192684e-03, -1.4294850e-03,\n",
      "        8.4893778e-05,  2.4209076e-03, -8.4204780e-04, -3.7230626e-03,\n",
      "        8.4171537e-05,  1.6949300e-04, -6.8417453e-04,  2.2803340e-03,\n",
      "       -1.3158284e-03,  7.0904143e-04,  2.5364091e-03,  7.3564739e-04,\n",
      "        1.9966930e-04,  2.3319412e-03, -1.2681347e-03,  2.8254581e-03,\n",
      "        2.2467340e-03, -3.0827974e-03, -3.8285947e-03,  3.3282810e-03,\n",
      "        2.9825108e-04, -1.7399812e-03, -1.8135628e-03,  4.5977184e-04,\n",
      "       -4.6869428e-04, -4.1077868e-03,  9.5042231e-04, -1.9973987e-03,\n",
      "       -3.8486156e-03, -1.6286580e-03, -6.4917293e-04,  3.6194564e-03,\n",
      "        1.1759512e-03,  3.8460058e-03,  2.7816663e-03,  2.0113380e-03,\n",
      "       -2.1033359e-03, -2.8493494e-04,  5.3572697e-03,  8.8180986e-04,\n",
      "        3.5974942e-03,  8.1479549e-05,  1.7965625e-03, -2.1351839e-03,\n",
      "        3.9982609e-03, -1.6345613e-03, -2.5219689e-03, -1.3441133e-03,\n",
      "        2.1170701e-03, -2.1036095e-03,  1.2548184e-03,  5.7226298e-03,\n",
      "        6.1454652e-06, -2.7599109e-03, -1.1850947e-05,  3.6094375e-03,\n",
      "        8.0030895e-04, -3.5399667e-04,  1.1912269e-03, -1.6847308e-03,\n",
      "       -3.2884087e-03, -2.7965257e-04, -1.0737883e-03, -1.9380579e-03,\n",
      "       -2.5022053e-03,  1.9717955e-03,  3.8537712e-04,  1.4013877e-03],\n",
      "      dtype=float32), 'time': array([ 1.3801808e-03,  1.4244237e-03, -5.9740350e-04, -8.0824626e-04,\n",
      "        2.0887225e-03,  2.3150663e-03,  4.9103476e-04, -6.6948473e-04,\n",
      "       -3.9277217e-04,  1.6484041e-03,  1.2051737e-03, -2.4206504e-04,\n",
      "       -1.7089441e-03,  3.6599895e-03, -1.1078883e-03,  2.2314636e-03,\n",
      "        1.6179685e-03,  2.4409965e-03,  3.2519383e-04, -2.5136250e-03,\n",
      "       -3.0741573e-03,  2.1553924e-03, -1.8780284e-04, -1.1689715e-03,\n",
      "       -1.1416100e-03, -3.6926686e-03, -2.5955951e-03, -2.2393730e-03,\n",
      "       -9.6275733e-04,  2.5701753e-04, -2.4006913e-04, -2.5475263e-03,\n",
      "        3.1685900e-05,  4.9906509e-04,  4.1054431e-03, -1.8150954e-03,\n",
      "        3.1467841e-03,  3.5797237e-04, -2.1267509e-04, -1.1420811e-03,\n",
      "        8.9061348e-04,  6.4215634e-04, -3.1981594e-03, -1.8375054e-04,\n",
      "        8.8223629e-04, -1.5403950e-03, -1.3229749e-03, -5.0424930e-04,\n",
      "       -2.1857303e-04, -2.3109666e-03,  1.4867178e-03, -2.6417912e-03,\n",
      "        2.4115366e-03, -2.6297002e-04, -3.1458274e-03, -5.3100666e-04,\n",
      "        3.3803910e-03,  2.0269027e-03,  1.6994346e-03, -1.3309895e-03,\n",
      "        2.7507453e-03, -6.6408585e-04,  1.7651785e-03, -1.2286062e-03,\n",
      "        5.8814260e-04,  1.2996121e-03,  1.1823270e-03, -2.3696071e-03,\n",
      "        2.0591393e-03,  4.1495671e-04,  1.5788605e-03,  1.4085072e-03,\n",
      "        1.6017961e-03,  1.5110702e-03,  7.0509478e-04,  9.4580074e-04,\n",
      "       -2.7119697e-04,  1.1073356e-03,  2.7050995e-03,  6.7818485e-04,\n",
      "       -6.7230948e-04,  1.7719072e-03, -1.4743061e-03, -2.4948607e-04,\n",
      "        2.1115181e-03,  1.7765495e-04,  3.9045644e-04,  8.5374643e-04,\n",
      "       -9.7419729e-04,  4.4445976e-04,  1.8591805e-04,  5.4959557e-04,\n",
      "       -2.6487929e-03, -2.5059846e-03,  2.1378209e-03,  2.2427477e-03,\n",
      "        1.2595218e-03, -7.9794636e-04, -1.3879150e-03,  2.3678404e-03],\n",
      "      dtype=float32), 'movi': array([-8.1911124e-04,  1.3428010e-03,  3.3073907e-03,  1.3587412e-03,\n",
      "        3.9131066e-04, -3.3956198e-03, -1.8231469e-03, -5.5693480e-04,\n",
      "       -2.0169353e-03, -1.2722966e-03,  3.7377281e-04,  1.6069721e-03,\n",
      "        1.5096724e-03,  2.8760040e-03,  2.1631776e-03, -5.8373733e-04,\n",
      "        1.3681074e-03, -1.3628448e-03, -1.2603524e-04, -6.9546548e-04,\n",
      "        7.9597649e-04,  3.0756062e-03, -8.8957453e-04,  8.9697150e-04,\n",
      "        4.9948174e-04,  1.4597682e-03,  1.3990108e-04, -2.0910408e-03,\n",
      "       -2.4382276e-03,  1.5002135e-03,  1.9041236e-03,  1.4468476e-03,\n",
      "        1.4701298e-03, -8.8344567e-04,  3.8026541e-03,  5.5732054e-04,\n",
      "        1.9903290e-03, -7.3529609e-06, -2.9234102e-04, -2.8935040e-03,\n",
      "        1.8424324e-03, -2.3934536e-03, -1.1489434e-03,  8.9576730e-04,\n",
      "       -1.8027426e-03,  3.2883028e-03,  2.2578062e-03, -7.7255064e-04,\n",
      "       -1.8619638e-03,  2.6858158e-03,  3.0510433e-04,  1.3175512e-03,\n",
      "        2.3222722e-03,  2.1045303e-03,  1.6134966e-03,  1.6169782e-03,\n",
      "        2.4316576e-03,  3.9201081e-03, -1.7781403e-04,  1.0324642e-03,\n",
      "       -1.5537647e-03,  3.8708237e-04,  1.6615496e-03, -1.3195178e-03,\n",
      "       -3.4673177e-03, -2.7271693e-03,  2.1614288e-03, -1.5704461e-03,\n",
      "        2.7919805e-03, -4.1504565e-04, -2.9641180e-04,  3.2143432e-04,\n",
      "       -5.8370642e-04,  1.4655661e-03,  4.9315952e-04,  1.0553678e-03,\n",
      "       -5.2042562e-03, -1.0573813e-03, -6.0195808e-04,  1.8629013e-04,\n",
      "        1.9890254e-03, -3.6259956e-04,  2.4328192e-03,  1.4330755e-03,\n",
      "        1.6676709e-03, -3.4514351e-03,  2.7613454e-03,  2.0579426e-03,\n",
      "       -2.3157038e-03, -1.5694564e-04, -7.8958611e-04, -4.0805366e-04,\n",
      "        4.0738191e-04,  2.0861591e-03, -7.6044180e-06,  3.6217673e-03,\n",
      "       -5.0525577e-04,  4.2361920e-03, -4.2422253e-04, -8.4807299e-04],\n",
      "      dtype=float32), 'like': array([ 2.0037957e-03, -8.8317099e-04, -9.4020093e-04,  2.3989710e-04,\n",
      "       -3.4824896e-04, -1.2237877e-03, -1.5497842e-03, -4.4533872e-04,\n",
      "        7.2817469e-04,  2.0161273e-03, -3.2239221e-03, -6.5678563e-05,\n",
      "        1.2055513e-03,  2.0001747e-03, -5.8805605e-04,  1.5537412e-03,\n",
      "       -1.0939069e-03,  1.6533685e-03, -1.2109943e-03,  9.3386235e-04,\n",
      "       -1.7574027e-03, -8.0525788e-04,  1.2668096e-03, -8.9587248e-04,\n",
      "        1.2143678e-03,  8.5359556e-04, -4.7637068e-04,  5.3044892e-04,\n",
      "        6.2780367e-04, -1.7143328e-03, -3.3571341e-03, -1.6677900e-03,\n",
      "       -1.4499009e-03,  1.6456458e-03,  1.7259436e-03, -1.7359979e-03,\n",
      "       -9.8810112e-04,  1.3343279e-03,  2.0294711e-03, -1.4151237e-03,\n",
      "        5.8807997e-04, -2.9147798e-03, -1.7221299e-03,  1.5871477e-04,\n",
      "        5.2572630e-04, -1.2402771e-03,  3.2692924e-04, -1.6275074e-03,\n",
      "       -5.1759608e-04, -1.5097690e-03, -6.7464315e-04,  1.9037307e-03,\n",
      "        7.3552743e-04,  1.4516376e-03, -1.4700236e-03, -3.2549871e-03,\n",
      "       -1.1733676e-03,  1.2098458e-03, -6.0615467e-04,  1.4043381e-03,\n",
      "        5.4061710e-04, -3.5681883e-03, -1.5905685e-03,  1.9091139e-04,\n",
      "       -1.5591622e-03, -2.0379997e-04, -8.9290994e-04,  1.3186062e-04,\n",
      "        1.4338883e-03, -2.2097894e-03, -1.3719625e-03,  1.4110836e-03,\n",
      "       -9.7933866e-04, -2.6108595e-03,  3.7012371e-04, -5.8661285e-04,\n",
      "       -1.0418160e-03,  1.8440298e-04, -2.1406431e-03,  1.0863665e-03,\n",
      "        2.2071337e-03,  4.0578325e-03, -2.5747260e-03,  1.1471962e-03,\n",
      "        4.1132912e-04, -6.8148853e-05,  2.5277024e-03,  6.2877813e-04,\n",
      "        2.4800692e-04, -2.6983742e-04,  1.3106224e-03,  7.0571055e-05,\n",
      "       -5.5516418e-04, -6.3627580e-04, -1.0977060e-03,  1.8069687e-03,\n",
      "        5.5167428e-04,  1.8791680e-03,  7.7411177e-04,  3.0850256e-03],\n",
      "      dtype=float32)}\n"
     ]
    }
   ],
   "source": [
    "## Get vocabulary of FastText model\n",
    "vocab = list(fastxt.wv.vocab)\n",
    "\n",
    "def get_word_vec(voc):\n",
    "    word_dic = {}\n",
    "    for i in voc:\n",
    "        word_dic[i] = fastxt.wv[i]\n",
    "    return word_dic\n",
    "\n",
    "word_vec = get_word_vec(vocab)      \n",
    "print(word_vec)"
   ]
  },
  {
   "cell_type": "code",
   "execution_count": null,
   "metadata": {},
   "outputs": [
    {
     "name": "stderr",
     "output_type": "stream",
     "text": [
      "Using TensorFlow backend.\n"
     ]
    }
   ],
   "source": [
    "from keras.preprocessing.text import Tokenizer\n",
    "from keras.preprocessing import sequence\n",
    "from keras.models import Sequential\n",
    "from keras.layers import Dense, Dropout, Activation\n",
    "from keras.layers import Embedding\n",
    "from keras.preprocessing.sequence import pad_sequences\n",
    "from keras.layers import Conv1D, GlobalMaxPooling1D\n",
    "from keras.callbacks import EarlyStopping\n",
    "\n",
    "\n",
    "# set parameters:\n",
    "max_features = 6000\n",
    "maxlen = 130\n",
    "batch_size = 256\n",
    "embedding_dims = 300\n",
    "filters = 64\n",
    "kernel_size = 3\n",
    "hidden_dims = 250\n",
    "epochs = 1\n",
    "\n",
    "\n",
    "tokenizer = Tokenizer(num_words=max_features)\n",
    "tokenizer.fit_on_texts(imdb.review[:10])\n",
    "list_tokenized_review = tokenizer.texts_to_sequences(imdb.review[:10])\n",
    "word_index = tokenizer.word_index\n",
    "print('dictionary size: ', len(word_index))\n",
    "\n",
    "review = pad_sequences(list_tokenized_train, maxlen=maxlen)\n",
    "sentiment = imdb.sentiment[:10]\n",
    "\n",
    "x_train, x_test, y_train, y_test = train_test_split(list_tokenized_review, sentiment, test_size=0.10)\n",
    "x_train = sequence.pad_sequences(x_train, maxlen = maxlen)\n",
    "x_test = sequence.pad_sequences(x_test, maxlen=maxlen)\n",
    "\n",
    "print(len(x_train), 'train sequences')\n",
    "print(len(x_test), 'test sequences')\n",
    "\n",
    "print('Build model...')\n",
    "model = Sequential()\n",
    "\n",
    "# we start off with an efficient embedding layer which maps\n",
    "# our vocab indices into embedding_dims dimensions\n",
    "model.add(Embedding(max_features,\n",
    "                    embedding_dims,\n",
    "                    weights = word_vec,\n",
    "                    trainable=False,\n",
    "                    input_length=maxlen))\n",
    "model.add(Dropout(0.2))\n",
    "\n",
    "# we add a Convolution1D, which will learn filters\n",
    "# word group filters of size filter_length:\n",
    "model.add(Conv1D(filters,\n",
    "                 kernel_size,\n",
    "                 padding='valid',\n",
    "                 activation='relu',\n",
    "                 strides=1))\n",
    "# we use max pooling:\n",
    "model.add(GlobalMaxPooling1D())\n",
    "\n",
    "# We add a vanilla hidden layer:\n",
    "model.add(Dense(hidden_dims))\n",
    "model.add(Dropout(0.2))\n",
    "model.add(Activation('relu'))\n",
    "\n",
    "# We project onto a single unit output layer, and squash it with a sigmoid:\n",
    "model.add(Dense(1))\n",
    "model.add(Activation('sigmoid'))\n",
    "\n",
    "model.compile(loss='binary_crossentropy',\n",
    "              optimizer='adam',\n",
    "              metrics=['accuracy'])\n",
    "model.summary()"
   ]
  },
  {
   "cell_type": "code",
   "execution_count": null,
   "metadata": {},
   "outputs": [],
   "source": []
  },
  {
   "cell_type": "code",
   "execution_count": null,
   "metadata": {},
   "outputs": [],
   "source": [
    "#define callbacks\n",
    "early_stopping = EarlyStopping(monitor='val_loss', min_delta=0.01, patience=4, verbose=1)\n",
    "callbacks_list = [early_stopping]"
   ]
  },
  {
   "cell_type": "code",
   "execution_count": null,
   "metadata": {},
   "outputs": [],
   "source": [
    "hist = model.fit(x_train, y_train,\n",
    "          batch_size=batch_size,\n",
    "          epochs=epochs,\n",
    "            validation_data=(x_test, y_test),\n",
    "                 verbose=2,\n",
    "                callbacks = callbacks_list)"
   ]
  },
  {
   "cell_type": "code",
   "execution_count": null,
   "metadata": {},
   "outputs": [],
   "source": [
    "# #generate plots\n",
    "# plt.figure()\n",
    "# plt.plot(hist.history['loss'], lw=2.0, color='b', label='train')\n",
    "# plt.plot(hist.history['val_loss'], lw=2.0, color='r', label='val')\n",
    "# plt.title('CNN sentiment')\n",
    "# plt.xlabel('Epochs')\n",
    "# plt.ylabel('Cross-Entropy Loss')\n",
    "# plt.legend(loc='upper right')"
   ]
  },
  {
   "cell_type": "code",
   "execution_count": null,
   "metadata": {},
   "outputs": [],
   "source": [
    "# plt.figure()\n",
    "# plt.plot(hist.history['accuracy'], lw=2.0, color='b', label='train')\n",
    "# plt.plot(hist.history['val_accuracy'], lw=2.0, color='r', label='val')\n",
    "# plt.title('CNN sentiment')\n",
    "# plt.xlabel('Epochs')\n",
    "# plt.ylabel('Accuracy')\n",
    "# plt.legend(loc='upper left')\n",
    "# plt.show()"
   ]
  },
  {
   "cell_type": "code",
   "execution_count": null,
   "metadata": {},
   "outputs": [],
   "source": [
    "# from keras.layers import Dense , Input , LSTM , Embedding, Dropout , Activation, GRU, Flatten\n",
    "# from keras.layers import Bidirectional, GlobalMaxPool1D\n",
    "\n",
    "# embed_size = 128\n",
    "# model = Sequential()\n",
    "# model.add(Embedding(max_features, embed_size))\n",
    "# model.add(Bidirectional(LSTM(32, return_sequences = True)))\n",
    "# model.add(GlobalMaxPool1D())\n",
    "# model.add(Dense(20, activation=\"relu\"))\n",
    "# model.add(Dropout(0.05))\n",
    "# model.add(Dense(1, activation=\"sigmoid\"))\n",
    "# model.compile(loss='binary_crossentropy', optimizer='adam', metrics=['accuracy'])\n",
    "# model.fit(x_train, y_train,\n",
    "#           batch_size=batch_size,\n",
    "#           epochs=epochs,\n",
    "#           validation_data=(x_test, y_test))\n"
   ]
  },
  {
   "cell_type": "code",
   "execution_count": null,
   "metadata": {},
   "outputs": [],
   "source": [
    "# df_test=pd.read_csv(\"../input/word2vec-nlp-tutorial/testData.tsv\",header=0, delimiter=\"\\t\", quoting=3)\n",
    "# df_test.head()\n",
    "# df_test[\"review\"]=df_test.review.apply(lambda x: clean_text(x))\n",
    "# df_test[\"sentiment\"] = df_test[\"id\"].map(lambda x: 1 if int(x.strip('\"').split(\"_\")[1]) >= 5 else 0)\n",
    "# y_test = df_test[\"sentiment\"]\n",
    "# list_sentences_test = df_test[\"review\"]\n",
    "# list_tokenized_test = tokenizer.texts_to_sequences(list_sentences_test)\n",
    "# X_te = pad_sequences(list_tokenized_test, maxlen=maxlen)\n",
    "# prediction = model.predict(X_te)\n",
    "# y_pred = (prediction > 0.5)\n",
    "# from sklearn.metrics import f1_score, confusion_matrix\n",
    "# print('F1-score: {0}'.format(f1_score(y_pred, y_test)))\n",
    "# print('Confusion matrix:')\n",
    "# confusion_matrix(y_pred, y_test)"
   ]
  },
  {
   "cell_type": "code",
   "execution_count": null,
   "metadata": {},
   "outputs": [],
   "source": [
    "# LABELS = ['negative', 'positive']\n",
    "# sns.heatmap(cm, annot=True, xticklabels=LABELS, yticklabels=LABELS, fmt='g')\n",
    "# xl = plt.xlabel(\"Predicted\")\n",
    "# yl = plt.ylabel(\"Actuals\")\n",
    "\n",
    "\n",
    "\n",
    "# def l2_norm(x):\n",
    "#    return np.sqrt(np.sum(x**2))\n",
    "\n",
    "# def div_norm(x):\n",
    "#    norm_value = l2_norm(x)\n",
    "#    if norm_value > 0:\n",
    "#        return x * ( 1.0 / norm_value)\n",
    "#    else:\n",
    "#        return x"
   ]
  }
 ],
 "metadata": {
  "kernelspec": {
   "display_name": "Python 3.7.6 64-bit ('base': conda)",
   "language": "python",
   "name": "python37664bitbaseconda18efcd73aca0417b869319057f882f5b"
  }
 },
 "nbformat": 4,
 "nbformat_minor": 2
}
